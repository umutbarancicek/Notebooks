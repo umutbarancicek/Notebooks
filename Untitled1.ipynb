{
 "cells": [
  {
   "cell_type": "code",
   "execution_count": 11,
   "id": "8c80c353-02ff-4f1f-9d38-a02a4f1da212",
   "metadata": {},
   "outputs": [
    {
     "name": "stdout",
     "output_type": "stream",
     "text": [
      "\n"
     ]
    }
   ],
   "source": [
    "f = open(\"test.txt\",'r')\n",
    "\n",
    "file_contents = f.read()\n",
    "\n",
    "\n",
    "print (file_contents)\n",
    "f.close()"
   ]
  },
  {
   "cell_type": "code",
   "execution_count": 18,
   "id": "fb1442f6-7e99-41b8-b50d-4739af514497",
   "metadata": {},
   "outputs": [
    {
     "name": "stdout",
     "output_type": "stream",
     "text": [
      "The original string is : Tutorials point is a learning platform\n",
      "The number of words in string are : 6\n"
     ]
    }
   ],
   "source": [
    "test_string = \"Tutorials point is a learning platform\"\n",
    "print (\"The original string is : \" + test_string)\n",
    "res = len(test_string.split())\n",
    "print (\"The number of words in string are : \" + str(res))"
   ]
  },
  {
   "cell_type": "code",
   "execution_count": 22,
   "id": "09fd82ec-4035-4011-adde-900c77211883",
   "metadata": {},
   "outputs": [
    {
     "name": "stdout",
     "output_type": "stream",
     "text": [
      "The randomly generated string is : 3F25Y68R1P\n"
     ]
    }
   ],
   "source": [
    "import string    \n",
    "import random  \n",
    "S = 10  \n",
    "\n",
    "ran = ''.join(random.choices(string.ascii_uppercase + string.digits, k = S))    \n",
    "print(\"The randomly generated string is : \" + str(ran)) "
   ]
  },
  {
   "cell_type": "code",
   "execution_count": 26,
   "id": "22bfb301-a393-49f4-8c8a-8487c06783d4",
   "metadata": {},
   "outputs": [
    {
     "name": "stdout",
     "output_type": "stream",
     "text": [
      "The sum of my_list is 15\n"
     ]
    }
   ],
   "source": [
    "def sum_of_list(l):\n",
    "    total = 0\n",
    "    for val in l:\n",
    "        total = total + val\n",
    "    return total\n",
    "\n",
    "my_list = [1,3,5,2,4]\n",
    "print (\"The sum of my_list is\", sum_of_list(my_list))"
   ]
  },
  {
   "cell_type": "code",
   "execution_count": 31,
   "id": "7ae18521-0f90-4df2-9280-e6c660100f08",
   "metadata": {},
   "outputs": [
    {
     "name": "stdout",
     "output_type": "stream",
     "text": [
      "The sum of my_list is 15\n"
     ]
    }
   ],
   "source": [
    "def sum_of_list(l,n):\n",
    "    if (n == 0):\n",
    "        return l[n];\n",
    "    return l[n] + sum_of_list(l,n-1)\n",
    "\n",
    "my_list = [1,3,5,2,4]\n",
    "print (\"The sum of my_list is\", sum_of_list(my_list,len(my_list)-1))"
   ]
  },
  {
   "cell_type": "code",
   "execution_count": 35,
   "id": "60d9699f-3976-4b18-bc13-b39264752301",
   "metadata": {},
   "outputs": [],
   "source": [
    "from fractions import Fraction\n",
    "n1 = Fraction(2,5)"
   ]
  },
  {
   "cell_type": "code",
   "execution_count": null,
   "id": "004089ce-4e8b-43ad-85aa-06e77205ad38",
   "metadata": {},
   "outputs": [],
   "source": []
  }
 ],
 "metadata": {
  "kernelspec": {
   "display_name": "Python 3 (ipykernel)",
   "language": "python",
   "name": "python3"
  },
  "language_info": {
   "codemirror_mode": {
    "name": "ipython",
    "version": 3
   },
   "file_extension": ".py",
   "mimetype": "text/x-python",
   "name": "python",
   "nbconvert_exporter": "python",
   "pygments_lexer": "ipython3",
   "version": "3.10.2"
  }
 },
 "nbformat": 4,
 "nbformat_minor": 5
}
