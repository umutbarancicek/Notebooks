{
 "cells": [
  {
   "cell_type": "code",
   "execution_count": 1,
   "id": "0a073bf8-2e25-4d3b-835f-f444fa73b488",
   "metadata": {},
   "outputs": [
    {
     "name": "stdout",
     "output_type": "stream",
     "text": [
      "sum A+A:\n",
      "[[ 0.45087085 -1.917891   -3.6973584  ...  1.04601114  5.430708\n",
      "  -0.86290058]\n",
      " [ 3.59131018  1.27626339 -0.57168902 ... -2.52899266 -1.08011654\n",
      "   0.32421731]\n",
      " [-1.78086709  0.52234096 -1.77685851 ...  3.13412425 -4.28768668\n",
      "   2.77797761]\n",
      " ...\n",
      " [ 0.64151946 -0.72056268 -0.95373181 ... -3.44334977 -0.60132999\n",
      "  -4.48385132]\n",
      " [ 2.78498141  1.97965684 -2.24683435 ... -0.89778152 -1.58080629\n",
      "   0.17228631]\n",
      " [ 1.81505388  1.01719102 -0.86422823 ...  4.60969579  0.97334332\n",
      "  -0.17461076]]\n",
      "product AA:\n",
      "[[501.10228262  12.95077999   0.85311443 ...  -7.71237886 -25.25657164\n",
      "  -32.87441381]\n",
      " [ 12.95077999 504.68444668  29.82719388 ... -13.9578679   48.2848423\n",
      "   10.45036771]\n",
      " [  0.85311443  29.82719388 511.10075693 ... -15.14841572   2.4457355\n",
      "   -9.64308265]\n",
      " ...\n",
      " [ -7.71237886 -13.9578679  -15.14841572 ... 526.70893452 -20.33413531\n",
      "   40.0302768 ]\n",
      " [-25.25657164  48.2848423    2.4457355  ... -20.33413531 522.11098621\n",
      "  -14.15214638]\n",
      " [-32.87441381  10.45036771  -9.64308265 ...  40.0302768  -14.15214638\n",
      "  494.73939388]]\n",
      "product AAT:\n",
      "[[215.77979133  -8.40181139  -3.37099019 ...  -9.20131925   0.90760437\n",
      "   13.68374123]\n",
      " [ -8.40181139 194.17806455  12.54691611 ...   7.28945643   8.03799441\n",
      "    9.86852271]\n",
      " [ -3.37099019  12.54691611 183.21359875 ...  -8.88300686   1.84206598\n",
      "    1.79403441]\n",
      " ...\n",
      " [ -9.20131925   7.28945643  -8.88300686 ... 193.38116894  15.75492765\n",
      "   17.89136558]\n",
      " [  0.90760437   8.03799441   1.84206598 ...  15.75492765 216.48372247\n",
      "  -38.97553512]\n",
      " [ 13.68374123   9.86852271   1.79403441 ...  17.89136558 -38.97553512\n",
      "  212.70185535]]\n",
      "product AB:\n",
      "[[10202.18661381 10175.32274612 10146.54098743 ...  3431.57282386\n",
      "   3454.31975498  3482.4973941 ]\n",
      " [ -155.42854703  -145.69033261  -134.67585479 ... -2912.30835342\n",
      "  -2917.69935842 -2924.17047998]\n",
      " [11323.56882518 11276.80138794 11230.55629166 ... 11125.99795036\n",
      "  11172.49422958 11214.70282212]\n",
      " ...\n",
      " [ 6703.15448815  6683.32760018  6662.78014954 ...  3501.01178436\n",
      "   3526.5653731   3551.51763185]\n",
      " [ -730.58271808  -732.62749326  -732.69261159 ...  3139.39502036\n",
      "   3145.63329692  3150.29076719]\n",
      " [ 3370.50056894  3361.24086861  3352.9983593  ...  2156.42590593\n",
      "   2166.70192759  2177.95129256]]\n"
     ]
    }
   ],
   "source": [
    "import numpy as np\n",
    "from scipy.linalg import toeplitz\n",
    "\n",
    "A = np.random.normal(0.,1.,(200,500))\n",
    "B = toeplitz(np.array(list(range(1,501))))\n",
    "sumA = A+A\n",
    "productA = A.dot(A.T)\n",
    "productAT = A.T.dot(A)\n",
    "productAB = A.dot(B)\n",
    "print(\"sum A+A:\")\n",
    "print(sumA)\n",
    "print(\"product AA:\")\n",
    "print(productA)\n",
    "print('product AAT:')\n",
    "print(productAT)\n",
    "print('product AB:')\n",
    "print(productAB)\n",
    "def compute(A,B,linda):\n",
    "    temp = B-linda*np.eye(500)\n",
    "    return  A@B"
   ]
  },
  {
   "cell_type": "code",
   "execution_count": 9,
   "id": "296ff31f-3684-4e41-9d1c-602de5c2533c",
   "metadata": {},
   "outputs": [
    {
     "name": "stdout",
     "output_type": "stream",
     "text": [
      "[ 9.98003992e-01 -8.04191488e-16  6.66133815e-16 -3.33066907e-16\n",
      "  3.33066907e-16 -2.22044605e-16  3.33066907e-16 -7.77156117e-16\n",
      "  1.11022302e-15 -5.55111512e-16 -1.11022302e-16 -2.22044605e-16\n",
      "  6.66133815e-16 -1.76207860e-26 -7.77156117e-16 -4.44089210e-16\n",
      "  8.88178420e-16  1.22124533e-15 -1.77635684e-15 -2.22044605e-16\n",
      "  1.88737914e-15 -1.11022302e-15 -3.33066907e-16 -3.33066907e-16\n",
      "  1.11022302e-16  1.77635684e-15 -1.66533454e-15  2.22044605e-16\n",
      "  1.44328993e-15 -1.44328993e-15 -1.11022303e-16 -6.66133815e-16\n",
      "  2.22044605e-16  5.55111512e-16  2.22044605e-16  2.55351296e-15\n",
      " -2.77555756e-15 -2.22044605e-16  1.11022302e-16 -7.77156117e-16\n",
      "  1.11022302e-15 -4.44089210e-16  3.44169138e-15 -3.44169138e-15\n",
      " -2.22044605e-16  2.22044605e-16  4.44089210e-16 -1.11022303e-16\n",
      " -2.99760217e-15  4.21884749e-15 -2.99760217e-15  6.66133815e-15\n",
      " -3.44169138e-15 -3.77475828e-15  3.88578059e-15 -4.21884749e-15\n",
      "  4.55191440e-15 -4.77395901e-15  7.54951657e-15 -6.66133815e-15\n",
      "  3.66373598e-15 -4.10782519e-15  1.22124533e-15  4.77395901e-15\n",
      " -6.88338275e-15  6.55031585e-15 -6.77236045e-15  6.66133815e-16\n",
      " -1.33226763e-15  1.52100554e-14 -1.45439216e-14  7.66053887e-15\n",
      " -1.11022302e-15 -5.99520433e-15  6.32827124e-15 -7.21644966e-15\n",
      "  6.99440506e-15 -5.66213743e-15 -9.99200722e-16 -5.55111512e-16\n",
      "  1.48769885e-14 -1.44328993e-14  6.81579766e-26  6.66133815e-16\n",
      "  6.32827124e-15  2.22044605e-16  1.11022302e-16 -7.21644966e-15\n",
      "  7.21644966e-15 -7.10542736e-15 -2.22044605e-16  1.49880108e-14\n",
      " -1.56541446e-14  1.22124533e-15 -2.22044605e-16  6.32827124e-15\n",
      "  5.55111512e-16 -6.99440506e-15  1.11022303e-16  6.77236045e-15\n",
      " -6.55031585e-15 -1.11022303e-16  5.88418203e-15  8.21565038e-15\n",
      " -1.37667655e-14 -1.22124533e-15  7.99360578e-15 -9.99200722e-16\n",
      " -6.10622664e-15 -5.55111512e-16  7.43849426e-15 -6.88338275e-15\n",
      " -1.11022303e-16  6.66133815e-15  4.44089210e-16 -7.21644966e-15\n",
      " -2.22044605e-16 -1.11022302e-16  1.46549439e-14 -7.88258347e-15\n",
      " -5.99520433e-15 -8.88178420e-16  7.88258347e-15 -7.54951657e-15\n",
      "  6.77236045e-15  1.11022302e-15 -1.53210777e-14  2.17603713e-14\n",
      " -1.37667655e-14 -1.33226763e-15  1.11022302e-15 -4.44089210e-16\n",
      "  1.43218770e-14 -1.39888101e-14  6.66133815e-16  1.24344979e-14\n",
      " -2.75335310e-14  2.89768209e-14 -1.47659662e-14 -4.44089210e-16\n",
      "  1.47659662e-14 -2.84217094e-14  2.80886425e-14 -2.22044605e-16\n",
      " -1.29896094e-14  1.28785871e-14 -1.39888101e-14  1.44328993e-15\n",
      " -1.88737914e-15  7.77156117e-16  1.48769885e-14 -1.55431223e-14\n",
      "  7.77156117e-16  1.11022302e-16  1.46549439e-14 -1.60982339e-14\n",
      "  2.10942375e-15 -1.22124533e-15  7.77156117e-16  1.35447209e-14\n",
      " -1.46549439e-14  1.66533454e-15  1.29896094e-14 -2.83106871e-14\n",
      "  2.84217094e-14 -1.31006317e-14 -2.44249065e-15  1.60982339e-14\n",
      " -2.79776202e-14  2.72004641e-14 -1.40998324e-14  7.77156117e-16\n",
      "  1.32116540e-14 -1.38777878e-14  1.47659662e-14 -1.48769885e-14\n",
      " -2.75975099e-26  1.50990331e-14 -1.47659662e-14 -6.66133815e-16\n",
      "  8.88178420e-16  1.39888101e-14 -2.85327317e-14  2.87547763e-14\n",
      " -1.99840144e-15 -2.54241073e-14  2.70894418e-14 -2.65343303e-14\n",
      "  2.47579734e-14  2.22044605e-15 -2.95319325e-14  2.93098879e-14\n",
      " -1.39888101e-14 -1.22124533e-15  1.52100554e-14 -1.34336986e-14\n",
      " -1.44328993e-15  2.22044605e-16  7.77156117e-16  1.33226763e-14\n",
      " -1.40998324e-14  6.66133815e-16 -8.88178420e-16  1.52100554e-14\n",
      " -2.90878432e-14  2.88657986e-14 -1.54321000e-14  1.59872116e-14\n",
      " -8.88178420e-16 -2.88657986e-14  2.98649994e-14 -1.22124533e-15\n",
      " -2.85327317e-14  2.89768209e-14 -1.45439216e-14 -4.44089210e-16\n",
      "  1.49880108e-14 -2.89768209e-14  2.89768209e-14 -1.29896094e-14\n",
      " -1.44328993e-15  1.32116540e-14 -1.24344979e-14 -1.66533454e-15\n",
      "  9.99200722e-16 -1.11022302e-16  6.66133815e-16  1.26565425e-14\n",
      " -1.18793864e-14 -2.22044605e-15  1.49880108e-14 -2.75335310e-14\n",
      "  2.72004641e-14 -8.88178420e-16 -2.65343303e-14  2.73114864e-14\n",
      " -2.74225087e-14  2.70894418e-14  1.59872116e-14 -4.38538095e-14\n",
      "  2.94209102e-14 -1.57651669e-14  1.33226763e-15  1.34336986e-14\n",
      " -2.84217094e-14  2.87547763e-14 -1.48769885e-14  9.99200722e-16\n",
      " -4.44089210e-16  1.41553436e-14 -1.38222767e-14 -6.10622664e-16\n",
      "  1.41553436e-14 -2.73114864e-14  2.73114864e-14  2.22044605e-16\n",
      "  7.77156117e-16 -5.78981307e-14  5.70654635e-14  7.77156117e-16\n",
      " -8.88178420e-16  1.11022302e-16 -5.58442181e-14  5.51225732e-14\n",
      "  1.33226763e-15 -2.22044605e-16 -6.10622664e-16 -2.83661983e-14\n",
      "  1.33226763e-15  2.69229083e-14  4.99600361e-16  5.55111512e-16\n",
      " -2.96429548e-14  8.32667268e-16  2.90878432e-14 -1.99840144e-15\n",
      " -2.70339306e-14  2.85327317e-14 -2.90323321e-14  2.88102875e-14\n",
      " -1.11022302e-16 -2.80886425e-14  2.79221091e-14  5.55111512e-16\n",
      " -2.91433544e-14  2.88657986e-14 -2.78665979e-14  5.52891066e-14\n",
      " -2.72004641e-14 -2.84772206e-14  2.74780199e-14 -2.75335310e-14\n",
      "  2.86437540e-14 -9.43689571e-16  8.32667268e-16 -2.79776202e-14\n",
      " -1.27675648e-15  2.87547763e-14  7.77156117e-16 -1.72084569e-15\n",
      " -2.67563749e-14  4.99600361e-16  2.62012634e-14  1.05471187e-15\n",
      "  9.99200722e-16 -2.10942375e-15 -5.50115509e-14  5.69544412e-14\n",
      " -1.66533454e-15  1.38777878e-15  5.55111512e-17 -5.81201753e-14\n",
      "  5.82311976e-14 -3.33066907e-16 -1.11022302e-15 -2.69784195e-14\n",
      " -2.77555756e-16  2.68673972e-14  2.16493490e-15 -1.05471187e-15\n",
      " -2.90323321e-14  2.99205105e-14 -2.85327317e-14  2.68673972e-14\n",
      "  1.22124533e-15 -2.84772206e-14  2.74225087e-14 -2.72559753e-14\n",
      "  2.84217094e-14 -1.22124533e-15 -2.72559753e-14  2.84772206e-14\n",
      " -1.16573418e-15 -2.71449530e-14  2.79221091e-14 -2.88102875e-14\n",
      "  2.91988655e-14 -4.44089210e-16 -2.88102875e-14  2.94209102e-14\n",
      " -2.89768209e-14  2.75335310e-14  1.44328993e-15 -5.55111512e-16\n",
      " -2.85882429e-14  3.33066907e-16  2.81996648e-14 -3.88578059e-16\n",
      "  6.66133815e-16 -2.85882429e-14  2.81441537e-14  2.77555756e-16\n",
      "  3.33066907e-16 -1.22124533e-15 -2.71449530e-14 -2.22044605e-16\n",
      "  2.76445533e-14  4.99600361e-16  4.44089210e-16 -2.94209102e-14\n",
      "  1.27675648e-15  2.74225087e-14  2.77555756e-16  1.66533454e-16\n",
      " -2.81996648e-14 -1.33226763e-15  3.01980663e-14 -7.77156117e-16\n",
      " -5.55111512e-16 -2.70894418e-14  2.75890422e-14 -2.90323321e-14\n",
      "  2.98094882e-14 -1.30451205e-15 -2.79498646e-14  2.86437540e-14\n",
      " -2.86437540e-14  2.83106871e-14  2.22044605e-16 -2.83661983e-14\n",
      "  2.82829316e-14  2.49800181e-16 -2.86992652e-14  2.87547763e-14\n",
      " -2.88657986e-14  2.86159985e-14  1.66533454e-16 -2.86715096e-14\n",
      "  2.83384427e-14 -2.78665979e-14  2.76445533e-14  4.71844785e-16\n",
      "  2.77555756e-17 -2.85049762e-14 -1.94289029e-16  2.88380431e-14\n",
      " -5.27355937e-16  4.16333634e-16 -5.68989300e-14  5.65381075e-14\n",
      "  1.94289029e-16  1.11022302e-16 -8.32667268e-17 -5.67879077e-14\n",
      "  5.69821967e-14 -4.99600361e-16  7.21644966e-16 -7.49400542e-16\n",
      " -2.79776202e-14 -2.77555756e-17  2.81996648e-14 -8.32667268e-17\n",
      "  6.10622664e-16 -2.90323321e-14  2.77555756e-16  5.66213743e-14\n",
      " -2.81163981e-14 -2.22044605e-16 -2.81719092e-14  2.81441537e-14\n",
      " -2.81441537e-14  2.81441537e-14  1.66533454e-16 -2.83661983e-14\n",
      "  2.80886425e-14 -2.81719092e-14  2.84217094e-14 -1.66533454e-16\n",
      " -2.83661983e-14  2.89213098e-14 -7.77156117e-16 -2.79776202e-14\n",
      "  2.84772206e-14 -2.85604873e-14  2.81163981e-14  7.21644966e-16\n",
      " -2.91348227e-14  7.49400542e-16  2.76401490e-14  3.79104599e-16\n",
      "  4.73672997e-18 -2.84633428e-14 -2.13512951e-16  2.88926401e-14\n",
      " -4.36610163e-16  2.21130499e-16  1.35730859e-17 -5.68708697e-14\n",
      "  5.65803503e-14  2.48719874e-16 -4.70902980e-18 -1.12102609e-16\n",
      " -5.64899092e-14  5.63721835e-14  4.77024718e-16 -5.14087553e-16\n",
      "  2.68109996e-16 -2.83271687e-14 -1.46090724e-16  2.82902444e-14\n",
      "  3.95752404e-16 -4.26554999e-16 -2.82066730e-14  9.24077847e-17\n",
      "  2.83520158e-14 -2.17917279e-16  3.49299210e-16 -2.88030439e-14\n",
      "  2.86712880e-14 -2.83477500e-14  2.83666553e-14 -3.26432715e-16\n",
      " -2.79037300e-14  2.79536734e-14 -2.81001519e-14  2.83552152e-14\n",
      " -2.22044605e-16 -2.80070517e-14  5.63192623e-14 -5.65402404e-14\n",
      "  2.85450860e-14 -2.85376901e-14  2.82207862e-14  4.34372508e-16\n",
      " -4.51028104e-16 -2.82655843e-14  1.56125113e-16  2.83731372e-14\n",
      " -2.91433544e-16  4.96130914e-16 -2.89074320e-14  5.48172618e-16\n",
      "  2.78561896e-14  2.35922393e-16  6.59194921e-17 -3.64291930e-17\n",
      " -5.70984232e-14  5.73794484e-14 -5.25621213e-16 -1.99600798e-03]\n"
     ]
    }
   ],
   "source": [
    "b=np.array(list(range(0,500)))\n",
    "x=np.linalg.solve(B,b)\n",
    "print(x)"
   ]
  },
  {
   "cell_type": "code",
   "execution_count": 7,
   "id": "f24a0027-eca8-4a8b-8e64-f864c434c1ee",
   "metadata": {},
   "outputs": [
    {
     "name": "stdout",
     "output_type": "stream",
     "text": [
      "36.099896646872814\n",
      "125250.0\n",
      "87334.52045641869 0.5000049348346907\n"
     ]
    }
   ],
   "source": [
    "import scipy.linalg as LA\n",
    "\n",
    "print(LA.norm(A,ord=2))\n",
    "print(LA.norm(B,ord=np.inf))\n",
    "U,sigma,VT = LA.svd(B)\n",
    "Max = max(sigma)\n",
    "Min = min(sigma)\n",
    "print(Max,Min)"
   ]
  },
  {
   "cell_type": "code",
   "execution_count": 10,
   "id": "d8513a39-5427-4a8d-a5cd-d43d1f61f3b8",
   "metadata": {},
   "outputs": [
    {
     "name": "stdout",
     "output_type": "stream",
     "text": [
      "Maxeig, iterations, time/s, eigVec\n"
     ]
    },
    {
     "ename": "AttributeError",
     "evalue": "module 'time' has no attribute 'clock'",
     "output_type": "error",
     "traceback": [
      "\u001b[1;31m---------------------------------------------------------------------------\u001b[0m",
      "\u001b[1;31mAttributeError\u001b[0m                            Traceback (most recent call last)",
      "Input \u001b[1;32mIn [10]\u001b[0m, in \u001b[0;36m<cell line: 24>\u001b[1;34m()\u001b[0m\n\u001b[0;32m     22\u001b[0m Z \u001b[38;5;241m=\u001b[39m np\u001b[38;5;241m.\u001b[39mrandom\u001b[38;5;241m.\u001b[39mnormal(\u001b[38;5;241m0\u001b[39m,\u001b[38;5;241m1\u001b[39m,(n,n))\n\u001b[0;32m     23\u001b[0m \u001b[38;5;28mprint\u001b[39m(\u001b[38;5;124m\"\u001b[39m\u001b[38;5;124mMaxeig, iterations, time/s, eigVec\u001b[39m\u001b[38;5;124m\"\u001b[39m)\n\u001b[1;32m---> 24\u001b[0m \u001b[38;5;28mprint\u001b[39m(\u001b[43mPowerIter\u001b[49m\u001b[43m(\u001b[49m\u001b[43mZ\u001b[49m\u001b[43m,\u001b[49m\u001b[43mesp\u001b[49m\u001b[43m)\u001b[49m)\n",
      "Input \u001b[1;32mIn [10]\u001b[0m, in \u001b[0;36mPowerIter\u001b[1;34m(Z, esp)\u001b[0m\n\u001b[0;32m      8\u001b[0m sub \u001b[38;5;241m=\u001b[39m np\u001b[38;5;241m.\u001b[39minf\n\u001b[0;32m      9\u001b[0m iteration \u001b[38;5;241m=\u001b[39m \u001b[38;5;241m0\u001b[39m\n\u001b[1;32m---> 10\u001b[0m startTime \u001b[38;5;241m=\u001b[39m \u001b[43mtime\u001b[49m\u001b[38;5;241;43m.\u001b[39;49m\u001b[43mclock\u001b[49m()\n\u001b[0;32m     11\u001b[0m \u001b[38;5;28;01mwhile\u001b[39;00m sub \u001b[38;5;241m>\u001b[39m esp:\n\u001b[0;32m     12\u001b[0m     u \u001b[38;5;241m=\u001b[39m Z\u001b[38;5;129m@u\u001b[39m\n",
      "\u001b[1;31mAttributeError\u001b[0m: module 'time' has no attribute 'clock'"
     ]
    }
   ],
   "source": [
    "import scipy.linalg as LA\n",
    "import time\n",
    "n=200\n",
    "def PowerIter(Z,esp):\n",
    "    u = np.ones(n)\n",
    "    u = u.reshape(n,1)\n",
    "    max_u = np.max(u)\n",
    "    sub = np.inf\n",
    "    iteration = 0\n",
    "    startTime = time.clock()\n",
    "    while sub > esp:\n",
    "        u = Z@u\n",
    "        temp = np.max(u)\n",
    "        sub = np.fabs(temp-max_u)\n",
    "        max_u = temp\n",
    "        u = u / max_u\n",
    "        iteration += 1\n",
    "    endTime = time.clock()\n",
    "    return max_u, iteration, endTime-startTime, u\n",
    "\n",
    "esp = 1e-5\n",
    "Z = np.random.normal(0,1,(n,n))\n",
    "print(\"Maxeig, iterations, time/s, eigVec\")\n",
    "print(PowerIter(Z,esp))"
   ]
  },
  {
   "cell_type": "code",
   "execution_count": 11,
   "id": "63ea9059-adcc-48ab-b4d1-227f2a4f6b7f",
   "metadata": {},
   "outputs": [
    {
     "name": "stdout",
     "output_type": "stream",
     "text": [
      "n, p , sigma: 200 0.125 9.411690668932282\n",
      "n, p , sigma: 200 0.25 12.00534364750458\n",
      "n, p , sigma: 200 0.375 13.19232613007056\n",
      "n, p , sigma: 200 0.5 13.699549029692204\n",
      "n, p , sigma: 200 0.625 13.53873119826136\n",
      "n, p , sigma: 200 0.75 12.046157782700218\n",
      "n, p , sigma: 200 0.875 9.261279750477287\n",
      "n, p , sigma: 200 1.0 0.0\n"
     ]
    }
   ],
   "source": [
    "n=200\n",
    "for i in range(1,9):\n",
    "    p = i / 8\n",
    "    C = np.random.choice(2,(n,n),p=[p,1-p])\n",
    "    sigma = LA.svd(C,1,0)[1]\n",
    "    print(\"n, p , sigma: \",end='')\n",
    "    print(n, p, sigma)"
   ]
  },
  {
   "cell_type": "code",
   "execution_count": 13,
   "id": "623ccf7f-b392-48f4-a211-4ac53cfe5af9",
   "metadata": {},
   "outputs": [],
   "source": [
    "def NearNb(A,z):\n",
    "    B = A - z\n",
    "    re=np.where(A==np.min(A))\n",
    "    print(B[re[1][0]-1,re[0][0]-1])\n"
   ]
  },
  {
   "cell_type": "code",
   "execution_count": 14,
   "id": "18def8a5-0804-4346-b818-7910c8510268",
   "metadata": {},
   "outputs": [
    {
     "name": "stdout",
     "output_type": "stream",
     "text": [
      "[-0.00357791 -0.56766809 -0.00134421  0.11167872  0.44074877  0.24346502\n",
      " -0.09746235  0.17942796  0.45878234  0.48035971]\n",
      "[-0.00357801 -0.56766809 -0.00134431  0.11167879  0.44074883  0.24346496\n",
      " -0.09746232  0.17942799  0.45878232  0.48035976]\n",
      "0.049391448173122465\n"
     ]
    }
   ],
   "source": [
    "from scipy.optimize import leastsq\n",
    "\n",
    "import numpy as np\n",
    "\n",
    "m = 20\n",
    "n = 10\n",
    "\n",
    "def func(p,x):\n",
    "\ts = np.random.rand(m)\n",
    "\tfor i in range(m):\n",
    "\t\ttmp = 0.0\n",
    "\t\tfor j in range(n):\n",
    "\t\t\ttmp += x[i][j]*p[j]\n",
    "\t\ts[i] = tmp\n",
    "\t\n",
    "\treturn s\n",
    "\n",
    "def err(p,A,y):\n",
    "\te = (func(p,A)-y)\n",
    "\treturn e\n",
    "\t\n",
    "A = np.random.rand(m,n)\n",
    "b = np.random.rand(m)\n",
    "p = np.random.rand(n)\n",
    "\n",
    "x = np.linalg.solve(A.T@A,A.T@b)\n",
    "print(x)\n",
    "rst = leastsq(err,p,args=(A,b))\n",
    "x = rst[0]\n",
    "print(x)\n",
    "\n",
    "\n",
    "print(np.sum((err(x,A,b)**2)/m))"
   ]
  },
  {
   "cell_type": "code",
   "execution_count": 16,
   "id": "4d577682-4c26-43b4-a748-67948deecaa1",
   "metadata": {},
   "outputs": [
    {
     "name": "stdout",
     "output_type": "stream",
     "text": [
      "0.9116854118471548\n",
      "[3.83580374 5.07923006 5.48660233 4.49844453 2.80260187 5.73547409\n",
      " 4.63672034 3.52411921 4.35328965 2.85001093 3.59747784 1.66098156\n",
      " 2.51755014 3.91626356 2.94341753 1.93379352 2.26371029 4.42327108\n",
      " 3.36520157 4.11661753 5.42106896 3.42034327 3.29103269 3.76993989\n",
      " 2.8624692  4.77726345 4.08116166 3.22724543 2.71086986 3.88342661\n",
      " 3.6559857  3.97504353 2.37409601 2.14915787 1.92282439 3.83257567\n",
      " 4.30900853 2.64654619 3.30997484 4.10170237 3.98782167 3.29815082\n",
      " 3.35708914 2.02040848 3.15677033]\n"
     ]
    }
   ],
   "source": [
    "import math\n",
    "from scipy.optimize import minimize_scalar\n",
    "\n",
    "func = lambda x: -((math.sin(x-2))**2)*math.e**(-(x**2))\n",
    "rst = minimize_scalar(func)\n",
    "print(-rst['fun'])\n",
    "\n",
    "import numpy as np\n",
    "from scipy.spatial import distance\n",
    "\n",
    "X = np.random.randn(10,8)\n",
    "dm = distance.pdist(X,metric='euclidean')\n",
    "print(dm)"
   ]
  },
  {
   "cell_type": "code",
   "execution_count": 18,
   "id": "b2e697be-863b-43eb-abf2-53627734c7e6",
   "metadata": {},
   "outputs": [
    {
     "data": {
      "image/png": "[encoded data removed]",
      "text/plain": [
       "<Figure size 432x288 with 1 Axes>"
      ]
     },
     "metadata": {
      "needs_background": "light"
     },
     "output_type": "display_data"
    }
   ],
   "source": [
    "import numpy as np\n",
    "import matplotlib.pyplot as plt\n",
    "\n",
    "x = np.linspace(0,1,500)\n",
    "y = (np.sin(x-2)**2)*np.exp(-x**2)\n",
    "plt.plot(x,y)\n",
    "plt.xlabel('x')\n",
    "plt.ylabel('y')\n",
    "plt.title('Graph of the function  sin2(x−2)e−x2 \\n')\n",
    "plt.show()"
   ]
  },
  {
   "cell_type": "code",
   "execution_count": 19,
   "id": "dd49a92d-9029-4aff-858b-09b80b43efae",
   "metadata": {},
   "outputs": [
    {
     "data": {
      "image/png": "[encoded data removed]",
      "text/plain": [
       "<Figure size 432x288 with 1 Axes>"
      ]
     },
     "metadata": {
      "needs_background": "light"
     },
     "output_type": "display_data"
    }
   ],
   "source": [
    "import numpy as np\n",
    "import matplotlib.pyplot as plt\n",
    "from numpy import linalg as LA\n",
    "\n",
    "x = np.random.rand(20,10)\n",
    "b = np.random.rand(10,1)\n",
    "z = np.random.standard_normal((20,1))\n",
    "y = x.dot(b)-z\n",
    "\n",
    "b1 = LA.lstsq(x,y,rcond=None)[0]\n",
    "\n",
    "#绘制\n",
    "x1 = np.array(list(range(10)))\n",
    "plt.scatter(x1,b,label='Origin-b',color='b',s=25,marker='o')\n",
    "plt.scatter(x1,b1,label='Estimated-b^',color='y',s=25,marker='^')\n",
    "\n",
    "plt.xlabel('x')\n",
    "plt.ylabel('b')\n",
    "plt.title('Least Square Question\\n')\n",
    "plt.legend()\n",
    "plt.show()"
   ]
  },
  {
   "cell_type": "code",
   "execution_count": 21,
   "id": "a8344d99-505d-4b4e-9b79-c5a26a156d0f",
   "metadata": {},
   "outputs": [
    {
     "name": "stderr",
     "output_type": "stream",
     "text": [
      "No artists with labels found to put in legend.  Note that artists whose label start with an underscore are ignored when legend() is called with no argument.\n"
     ]
    },
    {
     "data": {
      "image/png": "[encoded data removed]",
      "text/plain": [
       "<Figure size 432x288 with 1 Axes>"
      ]
     },
     "metadata": {
      "needs_background": "light"
     },
     "output_type": "display_data"
    }
   ],
   "source": [
    "import numpy as np\n",
    "import matplotlib.pyplot as plt\n",
    "from scipy.stats import gaussian_kde\n",
    "\n",
    "z = np.random.normal(0,0.5,1000)\n",
    "z = sorted(z)\n",
    "kernel = gaussian_kde(z)\n",
    "\n",
    "plt.hist(z,bins=25,density=True)\n",
    "plt.plot(z,kernel.pdf(z))\n",
    "\n",
    "plt.title('kde plot')\n",
    "plt.xlabel('x')\n",
    "plt.ylabel('y')\n",
    "plt.legend()\n",
    "plt.show()"
   ]
  },
  {
   "cell_type": "code",
   "execution_count": null,
   "id": "98861c04-4b38-4c12-897e-627c2cefb71d",
   "metadata": {},
   "outputs": [],
   "source": []
  }
 ],
 "metadata": {
  "kernelspec": {
   "display_name": "Python 3 (ipykernel)",
   "language": "python",
   "name": "python3"
  },
  "language_info": {
   "codemirror_mode": {
    "name": "ipython",
    "version": 3
   },
   "file_extension": ".py",
   "mimetype": "text/x-python",
   "name": "python",
   "nbconvert_exporter": "python",
   "pygments_lexer": "ipython3",
   "version": "3.10.2"
  }
 },
 "nbformat": 4,
 "nbformat_minor": 5
}
