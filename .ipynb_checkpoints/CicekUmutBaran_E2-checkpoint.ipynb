{
 "cells": [
  {
   "cell_type": "code",
   "execution_count": 2,
   "id": "3008de0f-8ff6-4c27-b8ec-b652c488e22f",
   "metadata": {},
   "outputs": [
    {
     "data": {
      "text/plain": [
       "'4 Lists'"
      ]
     },
     "execution_count": 2,
     "metadata": {},
     "output_type": "execute_result"
    }
   ],
   "source": [
    "\"4 Lists\""
   ]
  },
  {
   "cell_type": "code",
   "execution_count": 3,
   "id": "f385d82f-2fd4-47ef-b872-cceea1a2944e",
   "metadata": {},
   "outputs": [
    {
     "name": "stdout",
     "output_type": "stream",
     "text": [
      "Elements of the List:\n",
      "\n",
      "10\n",
      "20\n",
      "30\n",
      "John\n",
      "50\n",
      "Joe\n"
     ]
    }
   ],
   "source": [
    "lst = [10,20,30,'John',50,'Joe']\n",
    "print(\"Elements of the List:\\n\")\n",
    "print('\\n'.join(map(str, lst)))"
   ]
  },
  {
   "cell_type": "code",
   "execution_count": 5,
   "id": "6d984653-91f9-4ccf-88bc-b155a9679ab7",
   "metadata": {},
   "outputs": [
    {
     "name": "stdout",
     "output_type": "stream",
     "text": [
      "[15, 14, 13, 12, 11, 10]\n"
     ]
    }
   ],
   "source": [
    "def Reverse(lst):\n",
    "    return [ele for ele in reversed(lst)]\n",
    "lst = [10, 11, 12, 13, 14, 15]\n",
    "print(Reverse(lst))"
   ]
  },
  {
   "cell_type": "code",
   "execution_count": 6,
   "id": "054b6f3b-6bec-428c-9351-7c46d051a43b",
   "metadata": {},
   "outputs": [
    {
     "name": "stdout",
     "output_type": "stream",
     "text": [
      "13\n"
     ]
    }
   ],
   "source": [
    "def findLength(string):\n",
    "    count = 0\n",
    "    for i in string:\n",
    "        count+= 1\n",
    "    return count\n",
    "string = \"geeksforgeeks\"\n",
    "print(findLength(string))"
   ]
  },
  {
   "cell_type": "code",
   "execution_count": 8,
   "id": "2ceed56e-8f58-4909-8c1f-01af3ce351c6",
   "metadata": {},
   "outputs": [
    {
     "name": "stdout",
     "output_type": "stream",
     "text": [
      "['Hi', 'Hi', 'Hi', 'Hi', 'Hi']\n"
     ]
    }
   ],
   "source": [
    "listOfStrings1 = ['Hi'] * 5\n",
    "print(listOfStrings1)\n"
   ]
  },
  {
   "cell_type": "code",
   "execution_count": 13,
   "id": "058d21de-d924-44cc-a7ad-48b129f46d16",
   "metadata": {},
   "outputs": [
    {
     "name": "stdout",
     "output_type": "stream",
     "text": [
      "0\n"
     ]
    }
   ],
   "source": [
    "a = 0\n",
    "b = a\n",
    "b = 1\n",
    "print(a)\n",
    "# a is not changed\n"
   ]
  },
  {
   "cell_type": "code",
   "execution_count": 20,
   "id": "c01a57d3-6a91-498a-91c0-9043cc07c5ae",
   "metadata": {
    "collapsed": true,
    "jupyter": {
     "outputs_hidden": true
    },
    "tags": []
   },
   "outputs": [
    {
     "ename": "NameError",
     "evalue": "name 'xrange' is not defined",
     "output_type": "error",
     "traceback": [
      "\u001b[1;31m---------------------------------------------------------------------------\u001b[0m",
      "\u001b[1;31mNameError\u001b[0m                                 Traceback (most recent call last)",
      "Input \u001b[1;32mIn [20]\u001b[0m, in \u001b[0;36m<cell line: 2>\u001b[1;34m()\u001b[0m\n\u001b[0;32m      1\u001b[0m a \u001b[38;5;241m=\u001b[39m [[]] \u001b[38;5;241m*\u001b[39m \u001b[38;5;241m3\u001b[39m  \u001b[38;5;66;03m# \u001b[39;00m\n\u001b[1;32m----> 2\u001b[0m b \u001b[38;5;241m=\u001b[39m [[] \u001b[38;5;28;01mfor\u001b[39;00m _ \u001b[38;5;129;01min\u001b[39;00m \u001b[43mxrange\u001b[49m(\u001b[38;5;241m3\u001b[39m)]\n",
      "\u001b[1;31mNameError\u001b[0m: name 'xrange' is not defined"
     ]
    }
   ],
   "source": [
    "a = [[]] * 3  # below is the difference\n",
    "b = [[] for _ in xrange(3)] #the square brackets to create lists using this method"
   ]
  },
  {
   "cell_type": "code",
   "execution_count": 24,
   "id": "c47d935b-ccd9-411e-9873-d9be3d61d866",
   "metadata": {},
   "outputs": [
    {
     "name": "stdout",
     "output_type": "stream",
     "text": [
      "[1, 2, 3, 1, 2, 3, 1, 2, 3]\n"
     ]
    }
   ],
   "source": [
    "l1 = [1,2,3] * 3\n",
    "print(l1)"
   ]
  },
  {
   "cell_type": "code",
   "execution_count": 25,
   "id": "89226c84-8bc1-4b09-a475-cce57a5e6240",
   "metadata": {},
   "outputs": [
    {
     "name": "stdin",
     "output_type": "stream",
     "text": [
      "Enter the number till you want to check:  10\n"
     ]
    },
    {
     "name": "stdout",
     "output_type": "stream",
     "text": [
      "[2, 3, 5, 7]\n"
     ]
    }
   ],
   "source": [
    "n=int(input(\"Enter the number till you want to check: \"))\n",
    "primes = []\n",
    "for i in range (2, n+1):\n",
    "    for j in range(2, i):\n",
    "        if i%j == 0:\n",
    "            break\n",
    "    else:\n",
    "        primes.append(i)\n",
    "print(primes)"
   ]
  },
  {
   "cell_type": "code",
   "execution_count": 28,
   "id": "dc682510-0288-40de-a074-eefc8f1a268f",
   "metadata": {},
   "outputs": [
    {
     "name": "stdout",
     "output_type": "stream",
     "text": [
      "[0, 1, 2, 3, 4, 5, 6, 7, 8, 9]\n"
     ]
    }
   ],
   "source": [
    "number_list = [ x for x in range(10) ]\n",
    "print(number_list)"
   ]
  },
  {
   "cell_type": "code",
   "execution_count": 29,
   "id": "2cb451cc-3488-4380-8136-d73650067605",
   "metadata": {},
   "outputs": [
    {
     "name": "stdout",
     "output_type": "stream",
     "text": [
      "[0, 1, 2, 3, 4, 5, 6, 7, 8, 9]\n"
     ]
    }
   ],
   "source": [
    "number_list = [ x for x in range(10) ]\n",
    "print(number_list)"
   ]
  },
  {
   "cell_type": "code",
   "execution_count": 30,
   "id": "ab3c202e-05b6-4545-9305-2def29347991",
   "metadata": {},
   "outputs": [],
   "source": [
    "numbers = [1, 2, 3, 4, 5, 6, 7, 8, 9, 10]\n",
    "def power_of_two(number):\n",
    "    return number ** 2\n",
    "worst_way_to_get_a_list_ever = list(map(power_of_two, numbers))"
   ]
  },
  {
   "cell_type": "code",
   "execution_count": 31,
   "id": "8cfa1f96-7c55-4587-8c52-0688761210e9",
   "metadata": {},
   "outputs": [
    {
     "name": "stdout",
     "output_type": "stream",
     "text": [
      "Original List [[1, 2, 3, 4], [5, 6, 7], [8, 9, 10]]\n",
      "Transformed Flat List [1, 2, 3, 4, 5, 6, 7, 8, 9, 10]\n"
     ]
    }
   ],
   "source": [
    "def flatten_list(_2d_list):\n",
    "    flat_list = []\n",
    "    # Iterate through the outer list\n",
    "    for element in _2d_list:\n",
    "        if type(element) is list:\n",
    "            # If the element is of type list, iterate through the sublist\n",
    "            for item in element:\n",
    "                flat_list.append(item)\n",
    "        else:\n",
    "            flat_list.append(element)\n",
    "    return flat_list\n",
    "\n",
    "nested_list = [[1, 2, 3, 4], [5, 6, 7], [8, 9, 10]]\n",
    "print('Original List', nested_list)\n",
    "print('Transformed Flat List', flatten_list(nested_list))"
   ]
  },
  {
   "cell_type": "code",
   "execution_count": 37,
   "id": "229c3c3f-ec19-4c98-b93c-2470dac16528",
   "metadata": {},
   "outputs": [
    {
     "name": "stdout",
     "output_type": "stream",
     "text": [
      "the_longest_string\n"
     ]
    },
    {
     "data": {
      "text/plain": [
       "'purple'"
      ]
     },
     "execution_count": 37,
     "metadata": {},
     "output_type": "execute_result"
    }
   ],
   "source": [
    "a_list = [\"a_string\", \"the_longest_string\", \"string\"]\n",
    "longest_string = max(a_list, key=len)\n",
    "print(longest_string)\n",
    "\n",
    "words = [\"alpha\",\"omega\",\"up\",\"down\",\"over\",\"under\",\"purple\",\"red\",\"blue\",\"green\"]\n",
    "\n",
    "\n",
    "max(words, key=len)\n",
    "'purple'"
   ]
  },
  {
   "cell_type": "code",
   "execution_count": 45,
   "id": "110f335b-b359-40ca-a4e4-a7f3af5025d6",
   "metadata": {},
   "outputs": [
    {
     "name": "stdout",
     "output_type": "stream",
     "text": [
      "The length of collatz sequence is 15\n",
      "The sequence is :\n",
      "11\n",
      "34\n",
      "17\n",
      "52\n",
      "26\n",
      "13\n",
      "40\n",
      "20\n",
      "10\n",
      "5\n",
      "16\n",
      "8\n",
      "4\n",
      "2\n",
      "1\n"
     ]
    }
   ],
   "source": [
    "def collatz_sequence(n):\n",
    "    collatz_list=list() #list to store the values of sequence\n",
    "    \n",
    "    while (n!=1) :\n",
    "        collatz_list.append(n) \n",
    "        #if n is even\n",
    "        if (n%2==0) :\n",
    "            n=n//2\n",
    "        else:\n",
    "          #if n is odd\n",
    "            n=(3*n)+1\n",
    "    collatz_list.append(1)  #print 1 in the end   \n",
    "    l=len(collatz_list)\n",
    "\n",
    "    print(\"The length of collatz sequence is\", l)\n",
    "    print(\"The sequence is :\")\n",
    "    for i in range(0,l):\n",
    "      print(collatz_list[i])\n",
    "\n",
    "#driver code  \n",
    "collatz_sequence(11)"
   ]
  },
  {
   "cell_type": "code",
   "execution_count": 46,
   "id": "aab180ea-05a4-4814-9b80-5af631f80a4c",
   "metadata": {},
   "outputs": [
    {
     "data": {
      "text/plain": [
       "'5 Tuples'"
      ]
     },
     "execution_count": 46,
     "metadata": {},
     "output_type": "execute_result"
    }
   ],
   "source": [
    "\"5 Tuples\""
   ]
  },
  {
   "cell_type": "code",
   "execution_count": 47,
   "id": "0fdd1f80-c244-431b-afc2-7bbf7d67d72f",
   "metadata": {},
   "outputs": [
    {
     "name": "stdout",
     "output_type": "stream",
     "text": [
      "The value of x after swapping: 10\n",
      "The value of y after swapping: 5\n"
     ]
    }
   ],
   "source": [
    "x = 5\n",
    "y = 10\n",
    "\n",
    "temp = x\n",
    "x = y\n",
    "y = temp\n",
    "\n",
    "print('The value of x after swapping: {}'.format(x))\n",
    "print('The value of y after swapping: {}'.format(y))"
   ]
  },
  {
   "cell_type": "code",
   "execution_count": 51,
   "id": "45566cc6-c8e9-4e4f-b963-51646c937154",
   "metadata": {},
   "outputs": [
    {
     "name": "stdout",
     "output_type": "stream",
     "text": [
      "(('John', 'Jenny'), ('Charles', 'Christy'), ('Mike', 'Monica'))\n"
     ]
    }
   ],
   "source": [
    "a = (\"John\", \"Charles\", \"Mike\")\n",
    "b = (\"Jenny\", \"Christy\", \"Monica\")\n",
    "\n",
    "x = zip(a,b)\n",
    "\n",
    "print(tuple(x))"
   ]
  },
  {
   "cell_type": "code",
   "execution_count": 52,
   "id": "d60bf8ca-f12e-4d44-98c4-860bf98781a1",
   "metadata": {},
   "outputs": [
    {
     "name": "stdout",
     "output_type": "stream",
     "text": [
      "7.0710678118654755\n"
     ]
    }
   ],
   "source": [
    "import math\n",
    "\n",
    "a = (2, 3, 6)\n",
    "b = (5, 7, 1)\n",
    "\n",
    "d = math.dist(a, b)\n",
    "\n",
    "print(d)"
   ]
  },
  {
   "cell_type": "code",
   "execution_count": 53,
   "id": "65ebdef0-ac70-461c-8a5c-012892fa6027",
   "metadata": {},
   "outputs": [
    {
     "data": {
      "text/plain": [
       "'6 Dictionaries'"
      ]
     },
     "execution_count": 53,
     "metadata": {},
     "output_type": "execute_result"
    }
   ],
   "source": [
    "\"6 Dictionaries\""
   ]
  },
  {
   "cell_type": "code",
   "execution_count": null,
   "id": "533dfeb6-e2c2-415f-94eb-a3484e725b93",
   "metadata": {},
   "outputs": [],
   "source": [
    "a_dictionary = {\"a\": 1, \"b\": 2}\n",
    "dictionary_items = a_dictionary.items()\n",
    "for item in dictionary_items:\n",
    "    print(item)"
   ]
  },
  {
   "cell_type": "code",
   "execution_count": 1,
   "id": "443da83a-7596-4571-8f7f-dc81b5d5e505",
   "metadata": {},
   "outputs": [
    {
     "name": "stdout",
     "output_type": "stream",
     "text": [
      "Mustang\n"
     ]
    }
   ],
   "source": [
    "car = {\n",
    "  \"brand\": \"Ford\",\n",
    "  \"model\": \"Mustang\",\n",
    "  \"year\": 1964\n",
    "}\n",
    "\n",
    "x = car.get(\"model\")\n",
    "\n",
    "print(x)"
   ]
  },
  {
   "cell_type": "code",
   "execution_count": 2,
   "id": "65efc778-1496-40ba-8b8f-626b70129f2a",
   "metadata": {},
   "outputs": [
    {
     "name": "stdout",
     "output_type": "stream",
     "text": [
      "uoxzxankaa\n",
      "APMUGWOMNV\n",
      "eVuvmEBrZd\n",
      "2748581605\n",
      "{-;<,]_\\}@\n"
     ]
    }
   ],
   "source": [
    "import random\n",
    "import string\n",
    "\n",
    "# printing lowercase\n",
    "letters = string.ascii_lowercase\n",
    "print ( ''.join(random.choice(letters) for i in range(10)) )\n",
    "\n",
    "# printing uppercase\n",
    "letters = string.ascii_uppercase\n",
    "print ( ''.join(random.choice(letters) for i in range(10)) )\n",
    "\n",
    "# printing letters\n",
    "letters = string.ascii_letters\n",
    "print ( ''.join(random.choice(letters) for i in range(10)) )\n",
    "\n",
    "# printing digits\n",
    "letters = string.digits\n",
    "print ( ''.join(random.choice(letters) for i in range(10)) )\n",
    "\n",
    "# printing punctuation\n",
    "letters = string.punctuation\n",
    "print ( ''.join(random.choice(letters) for i in range(10)) )"
   ]
  },
  {
   "cell_type": "code",
   "execution_count": 6,
   "id": "56edfc71-463f-4f97-92de-a913ef37dd42",
   "metadata": {},
   "outputs": [
    {
     "name": "stdout",
     "output_type": "stream",
     "text": [
      "[1 2 3]\n",
      "[1 2 3]\n",
      "[2 4 6]\n"
     ]
    }
   ],
   "source": [
    "from numpy import array\n",
    "a = array([1, 2, 3])\n",
    "print(a)\n",
    "b = array([1, 2, 3])\n",
    "print(b)\n",
    "c = a + b\n",
    "print(c)"
   ]
  },
  {
   "cell_type": "code",
   "execution_count": 7,
   "id": "30f68d61-f074-411b-b407-34a999011385",
   "metadata": {},
   "outputs": [
    {
     "name": "stdout",
     "output_type": "stream",
     "text": [
      "[1 2 3]\n",
      "[1 2 3]\n",
      "[1 4 9]\n"
     ]
    }
   ],
   "source": [
    "from numpy import array\n",
    "a = array([1, 2, 3])\n",
    "print(a)\n",
    "b = array([1, 2, 3])\n",
    "print(b)\n",
    "c = a * b\n",
    "print(c)"
   ]
  },
  {
   "cell_type": "code",
   "execution_count": 12,
   "id": "a94ea6d8-336d-4eda-acac-14d89aa5311f",
   "metadata": {},
   "outputs": [
    {
     "name": "stdout",
     "output_type": "stream",
     "text": [
      "color: red\n"
     ]
    }
   ],
   "source": [
    "my_dict = {\"color\": \"red\", \"width\": 17, \"height\": 19}\n",
    "value_to_find = \"red\"\n",
    "for key, value in my_dict.items():\n",
    "    if value == value_to_find:\n",
    "        print(f'{key}: {value}')"
   ]
  },
  {
   "cell_type": "code",
   "execution_count": null,
   "id": "6621e8f0-d071-4280-a120-f9b43c7e7fa1",
   "metadata": {},
   "outputs": [],
   "source": []
  }
 ],
 "metadata": {
  "kernelspec": {
   "display_name": "Python 3 (ipykernel)",
   "language": "python",
   "name": "python3"
  },
  "language_info": {
   "codemirror_mode": {
    "name": "ipython",
    "version": 3
   },
   "file_extension": ".py",
   "mimetype": "text/x-python",
   "name": "python",
   "nbconvert_exporter": "python",
   "pygments_lexer": "ipython3",
   "version": "3.10.2"
  }
 },
 "nbformat": 4,
 "nbformat_minor": 5
}
