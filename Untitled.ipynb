{
 "cells": [
  {
   "cell_type": "code",
   "execution_count": 4,
   "id": "f4a91116-2adf-45d5-81ff-c4e9a8a3be59",
   "metadata": {},
   "outputs": [
    {
     "name": "stdin",
     "output_type": "stream",
     "text": [
      "Ortalamanızı Girin :  85\n"
     ]
    },
    {
     "name": "stdout",
     "output_type": "stream",
     "text": [
      "Geçtiniz\n"
     ]
    }
   ],
   "source": [
    "ort = input('Ortalamanızı Girin : ')\n",
    "if(int(ort)>=50):\n",
    "        print(\"Geçtiniz\")\n",
    "else:\n",
    "        print(\"Kaldınız\")"
   ]
  },
  {
   "cell_type": "code",
   "execution_count": 5,
   "id": "d7447938-6ac9-44b8-8f1e-d0603ef8c241",
   "metadata": {},
   "outputs": [
    {
     "name": "stdin",
     "output_type": "stream",
     "text": [
      "Sayı :  45\n"
     ]
    },
    {
     "name": "stdout",
     "output_type": "stream",
     "text": [
      "Sayı Tek\n"
     ]
    }
   ],
   "source": [
    "sayi = input('Sayı : ')\n",
    "if(int(sayi)%2==0):\n",
    "        print(\"Sayı Çift\")\n",
    "else:\n",
    "        print(\"Sayı Tek\")"
   ]
  },
  {
   "cell_type": "code",
   "execution_count": 6,
   "id": "702d43d3-7b7f-438a-9c0b-41c02001bfe3",
   "metadata": {},
   "outputs": [
    {
     "name": "stdin",
     "output_type": "stream",
     "text": [
      "Sayı :  -88\n"
     ]
    },
    {
     "name": "stdout",
     "output_type": "stream",
     "text": [
      "Sayı Negatif\n"
     ]
    }
   ],
   "source": [
    "sayi = input('Sayı : ')\n",
    "if(int(sayi)<0):\n",
    "        print(\"Sayı Negatif\")\n",
    "elif(int(sayi)>0):\n",
    "        print(\"Sayı Pozitif\")\n",
    "else:\n",
    "        print(\"Sayı Sıfır\")"
   ]
  },
  {
   "cell_type": "code",
   "execution_count": 16,
   "id": "67bc6ef9-44c7-49c4-9419-a04f2f846746",
   "metadata": {},
   "outputs": [
    {
     "name": "stdout",
     "output_type": "stream",
     "text": [
      "VÜCUT KİTLE ENDEKSİ HESAPLAMA PROGRAMI 💪 \n"
     ]
    },
    {
     "name": "stdin",
     "output_type": "stream",
     "text": [
      "Boy (m): 1.73\n",
      "kilo (kg): 73\n"
     ]
    },
    {
     "name": "stdout",
     "output_type": "stream",
     "text": [
      "\n",
      " kilolu VKİ:24.3910588392529\n"
     ]
    }
   ],
   "source": [
    "print(\"VÜCUT KİTLE ENDEKSİ HESAPLAMA PROGRAMI 💪 \")\n",
    "boy = float(input(\"Boy (m):\"))\n",
    "kilo = float(input(\"kilo (kg):\"))\n",
    "\n",
    "endeks = kilo/(boy*boy)\n",
    "\n",
    "if endeks <=18:\n",
    "        print(\"\\n zayıf VKİ:{}\".format(endeks))\n",
    "elif endeks > 18 and endeks <=25 :\n",
    "        print(\"\\n kilolu VKİ:{}\".format(endeks))\n",
    "elif endeks > 25 and endeks <=30 :\n",
    "        print(\"\\n obez VKİ:{}\".format(endeks))\n",
    "elif endeks > 30 :\n",
    "        print(\"\\n ciddi obez VKİ:{}\".format(endeks))"
   ]
  },
  {
   "cell_type": "code",
   "execution_count": 21,
   "id": "f2f04a0e-9948-406f-b639-193d3980851f",
   "metadata": {},
   "outputs": [
    {
     "name": "stdin",
     "output_type": "stream",
     "text": [
      "Yaşınız :  17\n"
     ]
    },
    {
     "name": "stdout",
     "output_type": "stream",
     "text": [
      "Yaşınız Ehliyet almak İçin Uygun Değil\n"
     ]
    }
   ],
   "source": [
    "yas = input('Yaşınız : ')\n",
    "if(int(yas)<18):\n",
    "        print(\"Yaşınız Ehliyet almak İçin Uygun Değil\")\n",
    "else:\n",
    "        print(\"Yaşınız Ehliyet almak İçin Uygun \")"
   ]
  },
  {
   "cell_type": "code",
   "execution_count": 26,
   "id": "cd84f93c-852f-40f8-8f20-4012bfab7719",
   "metadata": {},
   "outputs": [
    {
     "name": "stdout",
     "output_type": "stream",
     "text": [
      "Lütfen bölme için iki sayı giriniz.\n"
     ]
    },
    {
     "name": "stdin",
     "output_type": "stream",
     "text": [
      "Lütfen bölme için ilk sayınızı giriniz: 32\n",
      "Lütfen bölme için ikinci sayınızı giriniz: 8\n"
     ]
    },
    {
     "name": "stdout",
     "output_type": "stream",
     "text": [
      "32 / 8 = 4.0\n"
     ]
    }
   ],
   "source": [
    "print(\"Lütfen bölme için iki sayı giriniz.\")\n",
    "bolum=int(input(\"Lütfen bölme için ilk sayınızı giriniz:\"))\n",
    "bolen=int(input(\"Lütfen bölme için ikinci sayınızı giriniz:\"))        \n",
    "if bolen!=0:\n",
    "    print(bolum,\"/\",bolen,\"=\", bolum/bolen)"
   ]
  },
  {
   "cell_type": "code",
   "execution_count": 28,
   "id": "a59f4fb0-de98-4209-b392-8a5498249ccc",
   "metadata": {},
   "outputs": [
    {
     "name": "stdout",
     "output_type": "stream",
     "text": [
      "Lütfen bölme için iki sayı giriniz.\n"
     ]
    },
    {
     "name": "stdin",
     "output_type": "stream",
     "text": [
      "Lütfen bölme için ilk sayınızı giriniz: 32\n",
      "Lütfen bölme için ikinci sayınızı giriniz: 0\n"
     ]
    },
    {
     "name": "stdout",
     "output_type": "stream",
     "text": [
      "Sıfıra bölme işlemi yapılamaz.\n"
     ]
    }
   ],
   "source": [
    "print(\"Lütfen bölme için iki sayı giriniz.\")\n",
    "bolum=int(input(\"Lütfen bölme için ilk sayınızı giriniz:\"))\n",
    "bolen=int(input(\"Lütfen bölme için ikinci sayınızı giriniz:\"))  \n",
    "if bolen!=0:\n",
    "    print(bolum,\"/\",bolen,\"=\", bolum/bolen)\n",
    "else:\n",
    "    print(\"Sıfıra bölme işlemi yapılamaz.\")"
   ]
  },
  {
   "cell_type": "code",
   "execution_count": 29,
   "id": "49146181-08a8-4d23-aaaf-4372d48dc6ed",
   "metadata": {},
   "outputs": [
    {
     "name": "stdin",
     "output_type": "stream",
     "text": [
      "Ağacın boyu kaç cm?  145\n"
     ]
    },
    {
     "name": "stdout",
     "output_type": "stream",
     "text": [
      "Ağacın boyu kısa\n"
     ]
    }
   ],
   "source": [
    "boy =input(\"Ağacın boyu kaç cm? \")\n",
    "if int(boy) > 150:\n",
    "    print (\"Ağacın boyu uzun demek ki!\")\n",
    "else:\n",
    "    print (\"Ağacın boyu kısa\")"
   ]
  },
  {
   "cell_type": "code",
   "execution_count": 35,
   "id": "f855470f-b3a4-4da0-a81e-4a6700e31754",
   "metadata": {},
   "outputs": [
    {
     "name": "stdin",
     "output_type": "stream",
     "text": [
      "Ağacın boyu kaç cm?  5\n"
     ]
    }
   ],
   "source": [
    "x =input(\"Ağacın boyu kaç cm? \")\n",
    "if x == 2:\n",
    "    print(x) \n",
    "else:\n",
    "    pass"
   ]
  },
  {
   "cell_type": "code",
   "execution_count": 43,
   "id": "71211898-e06b-483f-912b-e631b664f601",
   "metadata": {},
   "outputs": [
    {
     "name": "stdout",
     "output_type": "stream",
     "text": [
      "d1 = 0.010000000000000009 d2 = 0.009999999999999787\n",
      "Farklı\n"
     ]
    }
   ],
   "source": [
    "d1 = 1.11 - 1.10\n",
    "d2 = 2.11 - 2.10\n",
    "print(\"d1 =\" , d1, \"d2 =\",d2)\n",
    "if d1 == d2:\n",
    "        print(\"Aynı\")\n",
    "else:\n",
    "        print(\"Farklı\")"
   ]
  },
  {
   "cell_type": "code",
   "execution_count": 47,
   "id": "90d2d07d-4895-4287-a3cc-69ba5d66a20d",
   "metadata": {},
   "outputs": [
    {
     "name": "stdin",
     "output_type": "stream",
     "text": [
      "Lütfen 0....10 aralığında bir tam sayı giriniz:  5\n"
     ]
    },
    {
     "name": "stdout",
     "output_type": "stream",
     "text": [
      "aralıkta\n",
      "tamamlandı\n"
     ]
    }
   ],
   "source": [
    "deger = int(input(\"Lütfen 0....10 aralığında bir tam sayı giriniz: \"))\n",
    "if deger >= 0 and deger <= 10:\n",
    "            print(\"aralıkta\")\n",
    "print(\"tamamlandı\")            "
   ]
  },
  {
   "cell_type": "code",
   "execution_count": 49,
   "id": "2e8bef1a-cf78-4101-9a30-28e707d84f16",
   "metadata": {},
   "outputs": [
    {
     "name": "stdin",
     "output_type": "stream",
     "text": [
      "Lütfen 0....10 aralığında bir tam sayı giriniz:  5\n"
     ]
    },
    {
     "name": "stdout",
     "output_type": "stream",
     "text": [
      "aralıkta\n",
      "tamamlandı\n"
     ]
    }
   ],
   "source": [
    "deger = int(input(\"Lütfen 0....10 aralığında bir tam sayı giriniz: \"))\n",
    "if deger >= 0 :\n",
    "    if deger <=10:\n",
    "            print(\"aralıkta\")\n",
    "print(\"tamamlandı\")  "
   ]
  },
  {
   "cell_type": "code",
   "execution_count": 50,
   "id": "bc9e1553-4899-42be-811c-9a811b55f197",
   "metadata": {},
   "outputs": [
    {
     "name": "stdin",
     "output_type": "stream",
     "text": [
      "Lütfen 0 yada 5 tam sayı değerlerinden birini girin  5\n"
     ]
    },
    {
     "name": "stdout",
     "output_type": "stream",
     "text": [
      "beş\n",
      "Tamamlandı\n"
     ]
    }
   ],
   "source": [
    "deger = int(input(\"Lütfen 0 yada 5 tam sayı değerlerinden birini girin \"))\n",
    "if deger < 0:\n",
    "    print(\"çok küçük\")\n",
    "else:\n",
    "    if deger == 0:\n",
    "        print(\"sıfır\")\n",
    "    else:\n",
    "        if deger == 1:\n",
    "            print(\"bir\")\n",
    "        else:\n",
    "            if deger == 5:\n",
    "                print(\"beş\")\n",
    "            else:\n",
    "                print(\"çok büyük\")\n",
    "print(\"Tamamlandı\")                "
   ]
  },
  {
   "cell_type": "code",
   "execution_count": 53,
   "id": "39f0f14c-d22b-4472-a345-9f5540f7a695",
   "metadata": {},
   "outputs": [
    {
     "name": "stdin",
     "output_type": "stream",
     "text": [
      "Lütfen 0 - 5 arasında bir değer girin  9\n"
     ]
    },
    {
     "name": "stdout",
     "output_type": "stream",
     "text": [
      "çok büyük\n",
      "Tamamlandı\n"
     ]
    }
   ],
   "source": [
    "deger = int(input(\"Lütfen 0 - 5 arasında bir değer girin \"))\n",
    "if deger < 0:\n",
    "    print(\"çok küçük\")\n",
    "elif deger == 0:\n",
    "     print(\"sıfır\")\n",
    "elif deger == 1:\n",
    "    print(\"bir\")\n",
    "elif deger == 2:\n",
    "    print(\"iki\")\n",
    "elif deger == 3:\n",
    "    print(\"üç\")\n",
    "elif deger == 4:\n",
    "    print(\"dört\")\n",
    "elif deger == 5:\n",
    "    print(\"beş\")\n",
    "else:\n",
    "    print(\"çok büyük\")\n",
    "print(\"Tamamlandı\")"
   ]
  },
  {
   "cell_type": "code",
   "execution_count": 54,
   "id": "3c23f667-544b-4d86-ad7a-5f1dda17a19f",
   "metadata": {},
   "outputs": [
    {
     "name": "stdout",
     "output_type": "stream",
     "text": [
      "Evet, 9 5'ten büyük\n",
      "Evet, 9 5'e eşit değildir\n",
      "Tabii ki, çok basit bir karşılaştırma bu\n"
     ]
    }
   ],
   "source": [
    "if 9 > 5:\n",
    "    print(\"Evet, 9 5'ten büyük\")\n",
    "if 9 != 5:\n",
    "    print(\"Evet, 9 5'e eşit değildir\")\n",
    "if not (10 == 4) and 9 > 5:\n",
    "    print(\"Tabii ki, çok basit bir karşılaştırma bu\")\n",
    "else:\n",
    "    print(\":(\")"
   ]
  },
  {
   "cell_type": "code",
   "execution_count": 55,
   "id": "5a5db4e0-8c8a-488b-a68e-c0fdd4a37ec2",
   "metadata": {},
   "outputs": [
    {
     "name": "stdin",
     "output_type": "stream",
     "text": [
      "Bir sayı giriniz:  -34\n"
     ]
    },
    {
     "name": "stdout",
     "output_type": "stream",
     "text": [
      "|-34| = 34\n"
     ]
    }
   ],
   "source": [
    "n = int(input(\"Bir sayı giriniz: \"))\n",
    "print(\"|\", n, \"| = \", (-n if n < 0 else n), sep=\"\")"
   ]
  },
  {
   "cell_type": "code",
   "execution_count": 56,
   "id": "bd8be5a0-a924-44f4-866e-f7b528535fdd",
   "metadata": {},
   "outputs": [
    {
     "name": "stdin",
     "output_type": "stream",
     "text": [
      "Lütfen 0 - 5 arasında bir değer girin  2\n"
     ]
    },
    {
     "name": "stdout",
     "output_type": "stream",
     "text": [
      "Girdiğiniz sayı İki\n"
     ]
    }
   ],
   "source": [
    "deger = int(input(\"Lütfen 0 - 5 arasında bir değer girin \"))\n",
    "cevap=\"aralıkta değil\"\n",
    "if deger == 0:\n",
    "    cevap=\"Sıfır\"\n",
    "elif deger == 1:\n",
    "    cevap=\"Bir\"\n",
    "elif deger == 2:\n",
    "    cevap=\"İki\"\n",
    "elif deger == 3:\n",
    "    cevap=\"Üç\"\n",
    "elif deger == 4:\n",
    "    cevap=\"Dört\"\n",
    "elif deger == 5:\n",
    "    cevap=\"Beş\"\n",
    "print(\"Girdiğiniz sayı\",cevap)"
   ]
  },
  {
   "cell_type": "code",
   "execution_count": 61,
   "id": "9cbdd793-601d-4184-b2db-a9b923526787",
   "metadata": {},
   "outputs": [
    {
     "name": "stdout",
     "output_type": "stream",
     "text": [
      "True\n",
      "True\n",
      "False\n",
      "True\n",
      "False\n",
      "True\n",
      "True\n",
      "False\n",
      "False\n",
      "True\n",
      "True\n",
      "False\n"
     ]
    }
   ],
   "source": [
    "x=3\n",
    "y=5\n",
    "z=7\n",
    "print(x == 3)\n",
    "print(x < y)\n",
    "print(x >= y)\n",
    "print(x <= y)\n",
    "print(x != y - 2)\n",
    "print(x < 10)\n",
    "print(x >= 0 and x < 10)\n",
    "print(x < 0 and x < 10)\n",
    "print(x >= 0 and x < 2)\n",
    "print(x < 0 or x < 10)\n",
    "print(x > 0 or x < 10)\n",
    "print(x < 0 or x > 10)"
   ]
  },
  {
   "cell_type": "code",
   "execution_count": null,
   "id": "75e07629-a2ec-4ca2-993a-d50ff026af02",
   "metadata": {},
   "outputs": [],
   "source": []
  },
  {
   "cell_type": "code",
   "execution_count": null,
   "id": "c5cdfd42-5419-4032-b1a2-af74bae20b99",
   "metadata": {},
   "outputs": [],
   "source": []
  }
 ],
 "metadata": {
  "kernelspec": {
   "display_name": "Python 3 (ipykernel)",
   "language": "python",
   "name": "python3"
  },
  "language_info": {
   "codemirror_mode": {
    "name": "ipython",
    "version": 3
   },
   "file_extension": ".py",
   "mimetype": "text/x-python",
   "name": "python",
   "nbconvert_exporter": "python",
   "pygments_lexer": "ipython3",
   "version": "3.10.2"
  }
 },
 "nbformat": 4,
 "nbformat_minor": 5
}
