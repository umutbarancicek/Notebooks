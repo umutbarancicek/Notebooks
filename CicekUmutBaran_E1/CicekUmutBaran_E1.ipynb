{
 "cells": [
  {
   "cell_type": "code",
   "execution_count": 5,
   "id": "cdfcf3f5-603b-47d5-960e-061724f2da43",
   "metadata": {},
   "outputs": [
    {
     "data": {
      "text/plain": [
       "4"
      ]
     },
     "execution_count": 5,
     "metadata": {},
     "output_type": "execute_result"
    }
   ],
   "source": [
    "\"Exercise 1.1\"\n",
    "3+1"
   ]
  },
  {
   "cell_type": "code",
   "execution_count": 6,
   "id": "52bedaa7-c13a-4bdf-8417-9abee9bede21",
   "metadata": {},
   "outputs": [
    {
     "data": {
      "text/plain": [
       "9"
      ]
     },
     "execution_count": 6,
     "metadata": {},
     "output_type": "execute_result"
    }
   ],
   "source": [
    "3*3"
   ]
  },
  {
   "cell_type": "code",
   "execution_count": 7,
   "id": "bae1ffcc-f5bd-4038-8d58-a666d444985f",
   "metadata": {},
   "outputs": [
    {
     "data": {
      "text/plain": [
       "8"
      ]
     },
     "execution_count": 7,
     "metadata": {},
     "output_type": "execute_result"
    }
   ],
   "source": [
    "2**3"
   ]
  },
  {
   "cell_type": "code",
   "execution_count": 8,
   "id": "eca007b2-1693-4596-ba94-384e7c4052c0",
   "metadata": {},
   "outputs": [
    {
     "data": {
      "text/plain": [
       "'Hello, world!'"
      ]
     },
     "execution_count": 8,
     "metadata": {},
     "output_type": "execute_result"
    }
   ],
   "source": [
    "\"Hello, world!\""
   ]
  },
  {
   "cell_type": "code",
   "execution_count": null,
   "id": "3fd54b80-ad47-48f1-9083-5998f6461fb8",
   "metadata": {},
   "outputs": [],
   "source": []
  },
  {
   "cell_type": "code",
   "execution_count": 10,
   "id": "f9686026-2a77-4cad-a9ec-aa4d9ff4546e",
   "metadata": {},
   "outputs": [
    {
     "data": {
      "text/plain": [
       "'Exercise 1.3'"
      ]
     },
     "execution_count": 10,
     "metadata": {},
     "output_type": "execute_result"
    }
   ],
   "source": [
    "\"Exercise 1.3\""
   ]
  },
  {
   "cell_type": "code",
   "execution_count": 11,
   "id": "870e205f-c8e9-45e7-8006-278b08bb90a1",
   "metadata": {},
   "outputs": [
    {
     "data": {
      "text/plain": [
       "'python'"
      ]
     },
     "execution_count": 11,
     "metadata": {},
     "output_type": "execute_result"
    }
   ],
   "source": [
    "'py' + 'thon'"
   ]
  },
  {
   "cell_type": "code",
   "execution_count": 12,
   "id": "63976e6c-1a84-4493-a167-a9076394808c",
   "metadata": {},
   "outputs": [
    {
     "data": {
      "text/plain": [
       "'pypypython'"
      ]
     },
     "execution_count": 12,
     "metadata": {},
     "output_type": "execute_result"
    }
   ],
   "source": [
    "'py' * 3 + 'thon'"
   ]
  },
  {
   "cell_type": "code",
   "execution_count": 13,
   "id": "5559918d-86fe-43f0-a775-1ac1756d9819",
   "metadata": {},
   "outputs": [
    {
     "ename": "TypeError",
     "evalue": "unsupported operand type(s) for -: 'str' and 'str'",
     "output_type": "error",
     "traceback": [
      "\u001b[1;31m---------------------------------------------------------------------------\u001b[0m",
      "\u001b[1;31mTypeError\u001b[0m                                 Traceback (most recent call last)",
      "Input \u001b[1;32mIn [13]\u001b[0m, in \u001b[0;36m<cell line: 1>\u001b[1;34m()\u001b[0m\n\u001b[1;32m----> 1\u001b[0m \u001b[38;5;124;43m'\u001b[39;49m\u001b[38;5;124;43mpy\u001b[39;49m\u001b[38;5;124;43m'\u001b[39;49m\u001b[43m \u001b[49m\u001b[38;5;241;43m-\u001b[39;49m\u001b[43m \u001b[49m\u001b[38;5;124;43m'\u001b[39;49m\u001b[38;5;124;43mpy\u001b[39;49m\u001b[38;5;124;43m'\u001b[39;49m\n",
      "\u001b[1;31mTypeError\u001b[0m: unsupported operand type(s) for -: 'str' and 'str'"
     ]
    }
   ],
   "source": [
    "'py' - 'py'"
   ]
  },
  {
   "cell_type": "code",
   "execution_count": 14,
   "id": "cf549359-2ef7-4240-b337-b7c71a61913f",
   "metadata": {},
   "outputs": [
    {
     "ename": "TypeError",
     "evalue": "can only concatenate str (not \"int\") to str",
     "output_type": "error",
     "traceback": [
      "\u001b[1;31m---------------------------------------------------------------------------\u001b[0m",
      "\u001b[1;31mTypeError\u001b[0m                                 Traceback (most recent call last)",
      "Input \u001b[1;32mIn [14]\u001b[0m, in \u001b[0;36m<cell line: 1>\u001b[1;34m()\u001b[0m\n\u001b[1;32m----> 1\u001b[0m \u001b[38;5;124;43m'\u001b[39;49m\u001b[38;5;124;43m3\u001b[39;49m\u001b[38;5;124;43m'\u001b[39;49m\u001b[43m \u001b[49m\u001b[38;5;241;43m+\u001b[39;49m\u001b[43m \u001b[49m\u001b[38;5;241;43m3\u001b[39;49m\n",
      "\u001b[1;31mTypeError\u001b[0m: can only concatenate str (not \"int\") to str"
     ]
    }
   ],
   "source": [
    "'3' + 3"
   ]
  },
  {
   "cell_type": "code",
   "execution_count": 15,
   "id": "9c7e86f0-1da0-4258-aefa-6d349a750ad6",
   "metadata": {},
   "outputs": [
    {
     "data": {
      "text/plain": [
       "'333'"
      ]
     },
     "execution_count": 15,
     "metadata": {},
     "output_type": "execute_result"
    }
   ],
   "source": [
    "3 * '3'"
   ]
  },
  {
   "cell_type": "code",
   "execution_count": 66,
   "id": "eca22701-2848-48f0-8e77-458a791b5509",
   "metadata": {},
   "outputs": [
    {
     "data": {
      "text/plain": [
       "3"
      ]
     },
     "execution_count": 66,
     "metadata": {},
     "output_type": "execute_result"
    }
   ],
   "source": [
    "a # a is not defined"
   ]
  },
  {
   "cell_type": "code",
   "execution_count": 21,
   "id": "45ddb5e0-9a91-4549-a682-e7e9de6147f7",
   "metadata": {},
   "outputs": [],
   "source": [
    "a = 3"
   ]
  },
  {
   "cell_type": "code",
   "execution_count": 19,
   "id": "7491d267-ee9e-48ef-af6e-182b24f156da",
   "metadata": {},
   "outputs": [
    {
     "data": {
      "text/plain": [
       "3"
      ]
     },
     "execution_count": 19,
     "metadata": {},
     "output_type": "execute_result"
    }
   ],
   "source": [
    "a"
   ]
  },
  {
   "cell_type": "code",
   "execution_count": 67,
   "id": "282af52c-239d-4844-b4b4-e439380b937b",
   "metadata": {},
   "outputs": [
    {
     "data": {
      "text/plain": [
       "'Exercise 1.4'"
      ]
     },
     "execution_count": 67,
     "metadata": {},
     "output_type": "execute_result"
    }
   ],
   "source": [
    "\"Exercise 1.4\""
   ]
  },
  {
   "cell_type": "code",
   "execution_count": 24,
   "id": "1ab21987-9cce-4783-92fb-ddedea1d7b19",
   "metadata": {},
   "outputs": [
    {
     "data": {
      "text/plain": [
       "True"
      ]
     },
     "execution_count": 24,
     "metadata": {},
     "output_type": "execute_result"
    }
   ],
   "source": [
    "1 == 1\n"
   ]
  },
  {
   "cell_type": "code",
   "execution_count": 26,
   "id": "3eb39fb7-880c-4138-beae-d505f32c2422",
   "metadata": {},
   "outputs": [
    {
     "data": {
      "text/plain": [
       "True"
      ]
     },
     "execution_count": 26,
     "metadata": {},
     "output_type": "execute_result"
    }
   ],
   "source": [
    "1 == True\n"
   ]
  },
  {
   "cell_type": "code",
   "execution_count": 27,
   "id": "a8a94c63-2f97-4dc5-bfd2-a53a585cc656",
   "metadata": {},
   "outputs": [
    {
     "data": {
      "text/plain": [
       "False"
      ]
     },
     "execution_count": 27,
     "metadata": {},
     "output_type": "execute_result"
    }
   ],
   "source": [
    "0 == True\n"
   ]
  },
  {
   "cell_type": "code",
   "execution_count": 28,
   "id": "9ac82a94-fac1-4f4a-bbdb-9a3d1209a01b",
   "metadata": {},
   "outputs": [
    {
     "data": {
      "text/plain": [
       "True"
      ]
     },
     "execution_count": 28,
     "metadata": {},
     "output_type": "execute_result"
    }
   ],
   "source": [
    "0 == False\n"
   ]
  },
  {
   "cell_type": "code",
   "execution_count": 29,
   "id": "91081654-b96e-467c-92d9-bfef46104f01",
   "metadata": {},
   "outputs": [
    {
     "data": {
      "text/plain": [
       "True"
      ]
     },
     "execution_count": 29,
     "metadata": {},
     "output_type": "execute_result"
    }
   ],
   "source": [
    "3 == 1 * 3\n"
   ]
  },
  {
   "cell_type": "code",
   "execution_count": 30,
   "id": "01d3e505-1cf2-4038-b73b-405b59c529dd",
   "metadata": {},
   "outputs": [
    {
     "data": {
      "text/plain": [
       "0"
      ]
     },
     "execution_count": 30,
     "metadata": {},
     "output_type": "execute_result"
    }
   ],
   "source": [
    "(3 == 1) * 3\n"
   ]
  },
  {
   "cell_type": "code",
   "execution_count": 31,
   "id": "3fff0d05-fe57-4637-9d82-694ca6853276",
   "metadata": {},
   "outputs": [
    {
     "data": {
      "text/plain": [
       "False"
      ]
     },
     "execution_count": 31,
     "metadata": {},
     "output_type": "execute_result"
    }
   ],
   "source": [
    "(3 == 3) * 4 + 3 == 1\n"
   ]
  },
  {
   "cell_type": "code",
   "execution_count": 32,
   "id": "12cfc792-5ad0-49d4-9d9d-df7ea0f6a646",
   "metadata": {},
   "outputs": [
    {
     "data": {
      "text/plain": [
       "False"
      ]
     },
     "execution_count": 32,
     "metadata": {},
     "output_type": "execute_result"
    }
   ],
   "source": [
    "3**5 >= 4**4"
   ]
  },
  {
   "cell_type": "code",
   "execution_count": 33,
   "id": "f2a8e7b1-34df-455c-8062-67c9e102f28f",
   "metadata": {},
   "outputs": [
    {
     "data": {
      "text/plain": [
       "'Exercise 1.5'"
      ]
     },
     "execution_count": 33,
     "metadata": {},
     "output_type": "execute_result"
    }
   ],
   "source": [
    "\"Exercise 1.5\""
   ]
  },
  {
   "cell_type": "code",
   "execution_count": 35,
   "id": "b241df07-4682-416d-8420-e545c870cc0d",
   "metadata": {},
   "outputs": [
    {
     "data": {
      "text/plain": [
       "1.6666666666666667"
      ]
     },
     "execution_count": 35,
     "metadata": {},
     "output_type": "execute_result"
    }
   ],
   "source": [
    "5 / 3\n"
   ]
  },
  {
   "cell_type": "code",
   "execution_count": 36,
   "id": "dfd392ca-db32-4f54-a72c-e1a33a429222",
   "metadata": {},
   "outputs": [
    {
     "data": {
      "text/plain": [
       "2"
      ]
     },
     "execution_count": 36,
     "metadata": {},
     "output_type": "execute_result"
    }
   ],
   "source": [
    "5 % 3\n"
   ]
  },
  {
   "cell_type": "code",
   "execution_count": 37,
   "id": "4777005f-8d55-49e3-b6b4-df6e3f7d465b",
   "metadata": {},
   "outputs": [
    {
     "data": {
      "text/plain": [
       "1.6666666666666667"
      ]
     },
     "execution_count": 37,
     "metadata": {},
     "output_type": "execute_result"
    }
   ],
   "source": [
    "5.0 / 3\n"
   ]
  },
  {
   "cell_type": "code",
   "execution_count": 38,
   "id": "ad46f6ea-0cd9-45eb-8d69-3d5b0359fb52",
   "metadata": {},
   "outputs": [
    {
     "data": {
      "text/plain": [
       "1.6666666666666667"
      ]
     },
     "execution_count": 38,
     "metadata": {},
     "output_type": "execute_result"
    }
   ],
   "source": [
    "5 / 3.0\n"
   ]
  },
  {
   "cell_type": "code",
   "execution_count": 39,
   "id": "6b233095-0f65-4953-b784-34c44c39ac9b",
   "metadata": {},
   "outputs": [
    {
     "data": {
      "text/plain": [
       "2.2"
      ]
     },
     "execution_count": 39,
     "metadata": {},
     "output_type": "execute_result"
    }
   ],
   "source": [
    "5.2 % 3"
   ]
  },
  {
   "cell_type": "code",
   "execution_count": 40,
   "id": "f271bb65-5a1a-4221-8a82-9cb191a2b25a",
   "metadata": {},
   "outputs": [
    {
     "data": {
      "text/plain": [
       "1775896810483121914350934797871501063452843428843794422323202530887281536545210629921129898113201749875234297340507804201761453596034016264189501186924066128377025843892373608427790859511135990682732202975330824797118808624727351608183194154557208730494440110429635650057431833674286462463508755276302896154336475782768613964332764108132533925570342220340698973761380541294970139762186212823359128790706292900765512137078550033912252338262922477518858757114840012576514724742388124595061301502222934806074032688691170880996881967426442947828261057852871032366879179996122216385870273020506079240103910728766397733398071775041745854959302025036249707279600400001"
      ]
     },
     "execution_count": 40,
     "metadata": {},
     "output_type": "execute_result"
    }
   ],
   "source": [
    "2001 ** 200"
   ]
  },
  {
   "cell_type": "code",
   "execution_count": 41,
   "id": "49ef0a4a-dcba-4cce-a55e-91cbc95ec65e",
   "metadata": {},
   "outputs": [
    {
     "data": {
      "text/plain": [
       "'Exercise 1.6'"
      ]
     },
     "execution_count": 41,
     "metadata": {},
     "output_type": "execute_result"
    }
   ],
   "source": [
    "\"Exercise 1.6\""
   ]
  },
  {
   "cell_type": "code",
   "execution_count": 68,
   "id": "78489014-df52-4400-84b0-a1f4fe2cb823",
   "metadata": {},
   "outputs": [
    {
     "ename": "OverflowError",
     "evalue": "(34, 'Result too large')",
     "output_type": "error",
     "traceback": [
      "\u001b[1;31m---------------------------------------------------------------------------\u001b[0m",
      "\u001b[1;31mOverflowError\u001b[0m                             Traceback (most recent call last)",
      "Input \u001b[1;32mIn [68]\u001b[0m, in \u001b[0;36m<cell line: 1>\u001b[1;34m()\u001b[0m\n\u001b[1;32m----> 1\u001b[0m \u001b[38;5;241;43m2000.3\u001b[39;49m\u001b[43m \u001b[49m\u001b[38;5;241;43m*\u001b[39;49m\u001b[38;5;241;43m*\u001b[39;49m\u001b[43m \u001b[49m\u001b[38;5;241;43m200\u001b[39;49m\n",
      "\u001b[1;31mOverflowError\u001b[0m: (34, 'Result too large')"
     ]
    }
   ],
   "source": [
    "2000.3 ** 200 "
   ]
  },
  {
   "cell_type": "code",
   "execution_count": 45,
   "id": "bdf8d113-fcd8-46e2-9de6-24a836d47973",
   "metadata": {},
   "outputs": [
    {
     "data": {
      "text/plain": [
       "1.0"
      ]
     },
     "execution_count": 45,
     "metadata": {},
     "output_type": "execute_result"
    }
   ],
   "source": [
    "1.0 + 1.0 - 1.0"
   ]
  },
  {
   "cell_type": "code",
   "execution_count": 46,
   "id": "df9c232c-b9a8-4eb8-b1f8-508e4238528f",
   "metadata": {},
   "outputs": [
    {
     "data": {
      "text/plain": [
       "0.0"
      ]
     },
     "execution_count": 46,
     "metadata": {},
     "output_type": "execute_result"
    }
   ],
   "source": [
    "1.0 + 1.0e20 - 1.0e20"
   ]
  },
  {
   "cell_type": "code",
   "execution_count": 47,
   "id": "5c05e6e0-9d8a-4fe4-927c-57aad229d8db",
   "metadata": {},
   "outputs": [
    {
     "data": {
      "text/plain": [
       "'Exercise 1.7'"
      ]
     },
     "execution_count": 47,
     "metadata": {},
     "output_type": "execute_result"
    }
   ],
   "source": [
    "\"Exercise 1.7\""
   ]
  },
  {
   "cell_type": "code",
   "execution_count": 52,
   "id": "3976c0fe-7253-40e5-b19b-dbd70dd3a46f",
   "metadata": {},
   "outputs": [
    {
     "data": {
      "text/plain": [
       "'Hello, Baran !'"
      ]
     },
     "execution_count": 52,
     "metadata": {},
     "output_type": "execute_result"
    }
   ],
   "source": [
    "name = \"Baran\"\n",
    "\"Hello, \" + name + \" !\""
   ]
  },
  {
   "cell_type": "code",
   "execution_count": 53,
   "id": "9853b27f-1b26-4117-a0ef-c7e9f9781549",
   "metadata": {},
   "outputs": [
    {
     "data": {
      "text/plain": [
       "'Exercise 1.8'"
      ]
     },
     "execution_count": 53,
     "metadata": {},
     "output_type": "execute_result"
    }
   ],
   "source": [
    "\"Exercise 1.8\""
   ]
  },
  {
   "cell_type": "code",
   "execution_count": 54,
   "id": "6a14fed0-3ad8-445a-b720-f9f69b703b55",
   "metadata": {},
   "outputs": [
    {
     "data": {
      "text/plain": [
       "123.0"
      ]
     },
     "execution_count": 54,
     "metadata": {},
     "output_type": "execute_result"
    }
   ],
   "source": [
    "float(123)"
   ]
  },
  {
   "cell_type": "code",
   "execution_count": 55,
   "id": "f8cebcd9-3844-4767-bc58-5343d6ee2503",
   "metadata": {},
   "outputs": [
    {
     "data": {
      "text/plain": [
       "123.0"
      ]
     },
     "execution_count": 55,
     "metadata": {},
     "output_type": "execute_result"
    }
   ],
   "source": [
    "float('123')"
   ]
  },
  {
   "cell_type": "code",
   "execution_count": 56,
   "id": "82b1c60f-ac33-4855-9f71-e570fa1593b5",
   "metadata": {},
   "outputs": [
    {
     "data": {
      "text/plain": [
       "123.23"
      ]
     },
     "execution_count": 56,
     "metadata": {},
     "output_type": "execute_result"
    }
   ],
   "source": [
    "float('123.23')"
   ]
  },
  {
   "cell_type": "code",
   "execution_count": 57,
   "id": "4f189bcd-e8dc-4c0c-86b9-e95f71a03981",
   "metadata": {},
   "outputs": [
    {
     "data": {
      "text/plain": [
       "123"
      ]
     },
     "execution_count": 57,
     "metadata": {},
     "output_type": "execute_result"
    }
   ],
   "source": [
    "int(123.23)"
   ]
  },
  {
   "cell_type": "code",
   "execution_count": 58,
   "id": "3a366c98-7b39-4589-92d9-643028136e67",
   "metadata": {},
   "outputs": [
    {
     "ename": "ValueError",
     "evalue": "invalid literal for int() with base 10: '123.23'",
     "output_type": "error",
     "traceback": [
      "\u001b[1;31m---------------------------------------------------------------------------\u001b[0m",
      "\u001b[1;31mValueError\u001b[0m                                Traceback (most recent call last)",
      "Input \u001b[1;32mIn [58]\u001b[0m, in \u001b[0;36m<cell line: 1>\u001b[1;34m()\u001b[0m\n\u001b[1;32m----> 1\u001b[0m \u001b[38;5;28;43mint\u001b[39;49m\u001b[43m(\u001b[49m\u001b[38;5;124;43m'\u001b[39;49m\u001b[38;5;124;43m123.23\u001b[39;49m\u001b[38;5;124;43m'\u001b[39;49m\u001b[43m)\u001b[49m\n",
      "\u001b[1;31mValueError\u001b[0m: invalid literal for int() with base 10: '123.23'"
     ]
    }
   ],
   "source": [
    "int('123.23')"
   ]
  },
  {
   "cell_type": "code",
   "execution_count": 59,
   "id": "c41557d4-7a1f-4d5c-8a26-8a629e6c92f2",
   "metadata": {},
   "outputs": [
    {
     "data": {
      "text/plain": [
       "123"
      ]
     },
     "execution_count": 59,
     "metadata": {},
     "output_type": "execute_result"
    }
   ],
   "source": [
    "int(float('123.23'))"
   ]
  },
  {
   "cell_type": "code",
   "execution_count": 60,
   "id": "e8025a79-f864-4abc-bca8-1daad39bb926",
   "metadata": {},
   "outputs": [
    {
     "data": {
      "text/plain": [
       "'12'"
      ]
     },
     "execution_count": 60,
     "metadata": {},
     "output_type": "execute_result"
    }
   ],
   "source": [
    "str(12)"
   ]
  },
  {
   "cell_type": "code",
   "execution_count": 61,
   "id": "3f444346-ee79-4a67-93c6-d9589da0e565",
   "metadata": {},
   "outputs": [
    {
     "data": {
      "text/plain": [
       "'12.2'"
      ]
     },
     "execution_count": 61,
     "metadata": {},
     "output_type": "execute_result"
    }
   ],
   "source": [
    "str(12.2)"
   ]
  },
  {
   "cell_type": "code",
   "execution_count": 62,
   "id": "5ade71a4-f754-483d-8e3a-eb8d40e6eb2d",
   "metadata": {},
   "outputs": [
    {
     "data": {
      "text/plain": [
       "True"
      ]
     },
     "execution_count": 62,
     "metadata": {},
     "output_type": "execute_result"
    }
   ],
   "source": [
    "bool('a')"
   ]
  },
  {
   "cell_type": "code",
   "execution_count": 63,
   "id": "a657a2b9-1e5a-4b9d-965f-c59fe4a91021",
   "metadata": {},
   "outputs": [
    {
     "data": {
      "text/plain": [
       "False"
      ]
     },
     "execution_count": 63,
     "metadata": {},
     "output_type": "execute_result"
    }
   ],
   "source": [
    "bool(0)"
   ]
  },
  {
   "cell_type": "code",
   "execution_count": 64,
   "id": "30ad03b0-b285-4256-b154-78c5a3e5e4eb",
   "metadata": {},
   "outputs": [
    {
     "data": {
      "text/plain": [
       "True"
      ]
     },
     "execution_count": 64,
     "metadata": {},
     "output_type": "execute_result"
    }
   ],
   "source": [
    "bool(0.1)"
   ]
  },
  {
   "cell_type": "code",
   "execution_count": 69,
   "id": "9c41a668-93b5-4dbe-a628-ac779fcc8682",
   "metadata": {},
   "outputs": [
    {
     "data": {
      "text/plain": [
       "'Exercise 2.1'"
      ]
     },
     "execution_count": 69,
     "metadata": {},
     "output_type": "execute_result"
    }
   ],
   "source": [
    "\"Exercise 2.1\""
   ]
  },
  {
   "cell_type": "code",
   "execution_count": null,
   "id": "8d7a22c2-87ac-4ec1-84d4-c07c074e9740",
   "metadata": {},
   "outputs": [],
   "source": [
    "range(5) #Create a sequence of numbers from 0 to 5"
   ]
  },
  {
   "cell_type": "code",
   "execution_count": null,
   "id": "b2b0b91d-c938-42dd-8587-0a9a7cde763e",
   "metadata": {},
   "outputs": [],
   "source": [
    "type(range(5))"
   ]
  },
  {
   "cell_type": "code",
   "execution_count": null,
   "id": "5a1a760c-ac6e-4e1c-85be-4e1bd3a04d73",
   "metadata": {},
   "outputs": [],
   "source": [
    "\"Exercise 2.2\""
   ]
  },
  {
   "cell_type": "code",
   "execution_count": 76,
   "id": "76e609d5-c793-4259-b534-27a519979054",
   "metadata": {},
   "outputs": [
    {
     "data": {
      "text/plain": [
       "[0,\n",
       " 1,\n",
       " 2,\n",
       " 3,\n",
       " 4,\n",
       " 5,\n",
       " 6,\n",
       " 7,\n",
       " 8,\n",
       " 9,\n",
       " 10,\n",
       " 11,\n",
       " 12,\n",
       " 13,\n",
       " 14,\n",
       " 15,\n",
       " 16,\n",
       " 17,\n",
       " 18,\n",
       " 19,\n",
       " 20,\n",
       " 21,\n",
       " 22,\n",
       " 23,\n",
       " 24,\n",
       " 25,\n",
       " 26,\n",
       " 27,\n",
       " 28,\n",
       " 29,\n",
       " 30,\n",
       " 31,\n",
       " 32,\n",
       " 33,\n",
       " 34,\n",
       " 35,\n",
       " 36,\n",
       " 37,\n",
       " 38,\n",
       " 39,\n",
       " 40,\n",
       " 41,\n",
       " 42,\n",
       " 43,\n",
       " 44,\n",
       " 45,\n",
       " 46,\n",
       " 47,\n",
       " 48,\n",
       " 49,\n",
       " 50,\n",
       " 51,\n",
       " 52,\n",
       " 53,\n",
       " 54,\n",
       " 55,\n",
       " 56,\n",
       " 57,\n",
       " 58,\n",
       " 59,\n",
       " 60,\n",
       " 61,\n",
       " 62,\n",
       " 63,\n",
       " 64,\n",
       " 65,\n",
       " 66,\n",
       " 67,\n",
       " 68,\n",
       " 69,\n",
       " 70,\n",
       " 71,\n",
       " 72,\n",
       " 73,\n",
       " 74,\n",
       " 75,\n",
       " 76,\n",
       " 77,\n",
       " 78,\n",
       " 79,\n",
       " 80,\n",
       " 81,\n",
       " 82,\n",
       " 83,\n",
       " 84,\n",
       " 85,\n",
       " 86,\n",
       " 87,\n",
       " 88,\n",
       " 89,\n",
       " 90,\n",
       " 91,\n",
       " 92,\n",
       " 93,\n",
       " 94,\n",
       " 95,\n",
       " 96,\n",
       " 97,\n",
       " 98,\n",
       " 99,\n",
       " 100]"
      ]
     },
     "execution_count": 76,
     "metadata": {},
     "output_type": "execute_result"
    }
   ],
   "source": [
    "list(range(0, 101))\n"
   ]
  },
  {
   "cell_type": "code",
   "execution_count": 75,
   "id": "7ce4e35b-7195-48a7-b445-1672ed55728a",
   "metadata": {},
   "outputs": [
    {
     "name": "stdout",
     "output_type": "stream",
     "text": [
      "0\n",
      "7\n",
      "14\n",
      "21\n",
      "28\n",
      "35\n",
      "42\n",
      "49\n",
      "56\n",
      "63\n",
      "70\n",
      "77\n",
      "84\n",
      "91\n",
      "98\n"
     ]
    }
   ],
   "source": [
    "for i in range(101):\n",
    "    if i%7==0 or i==range(7,98,10):\n",
    "        print(i)"
   ]
  },
  {
   "cell_type": "code",
   "execution_count": 74,
   "id": "40335ead-4be6-4655-b791-361d00c2eda4",
   "metadata": {},
   "outputs": [
    {
     "name": "stdout",
     "output_type": "stream",
     "text": [
      "5\n",
      "10\n",
      "20\n",
      "25\n",
      "35\n",
      "40\n",
      "50\n",
      "55\n",
      "65\n",
      "70\n",
      "80\n",
      "85\n",
      "95\n",
      "100\n"
     ]
    }
   ],
   "source": [
    "for i in range(0, 101):\n",
    "   if((i%3!=0) & (i%5==0)):\n",
    "      print(i)"
   ]
  },
  {
   "cell_type": "code",
   "execution_count": 73,
   "id": "1f34d095-427c-4b0e-acb7-3089c29f0b30",
   "metadata": {},
   "outputs": [
    {
     "name": "stdout",
     "output_type": "stream",
     "text": [
      "0\n",
      "7\n",
      "14\n",
      "21\n",
      "28\n",
      "35\n",
      "42\n",
      "49\n",
      "56\n",
      "63\n",
      "70\n",
      "77\n",
      "84\n",
      "91\n",
      "98\n"
     ]
    }
   ],
   "source": [
    "start = 0\n",
    " \n",
    "end = 101\n",
    " \n",
    "while(start<=end):\n",
    "    if(start%7==0):\n",
    "      print(start)\n",
    "    start += 1"
   ]
  },
  {
   "cell_type": "code",
   "execution_count": null,
   "id": "5666c644-09a7-422f-8f45-870b1dfe3663",
   "metadata": {},
   "outputs": [],
   "source": [
    "\"Exercise 2.5\""
   ]
  },
  {
   "cell_type": "code",
   "execution_count": 72,
   "id": "81c5c5bb-cf4b-4a8d-a33a-fff6080b6984",
   "metadata": {},
   "outputs": [
    {
     "name": "stdout",
     "output_type": "stream",
     "text": [
      "0\n",
      "7\n",
      "14\n"
     ]
    }
   ],
   "source": [
    "start = 0\n",
    " \n",
    "end = 20\n",
    " \n",
    "while(start<=end):\n",
    "    if(start%7==0 & start%5==0 & start%11==0):\n",
    "      print(start)\n",
    "    start += 1"
   ]
  },
  {
   "cell_type": "code",
   "execution_count": 71,
   "id": "d2e6e51b-4512-4f17-9202-662954f1135b",
   "metadata": {},
   "outputs": [],
   "source": [
    "ARR = [0]*10\n",
    "ARR[0] = 1 #dummy entry\n",
    "def numSeq(pos, num):\n",
    "\n",
    "    if all(ARR):\n",
    "        print(num)\n",
    "        return True\n",
    "\n",
    "    if (pos>0) and (num%pos) != 0:\n",
    "        return False\n",
    "\n",
    "    for i in xrange(1,10):\n",
    "        if ARR[i] == 1:\n",
    "            continue\n",
    "        new_num = num*10 + i\n",
    "        if new_num%(pos+1) == 0:\n",
    "            ARR[i] = 1\n",
    "        numSeq(pos+1,new_num)"
   ]
  },
  {
   "cell_type": "code",
   "execution_count": 77,
   "id": "9eced6ab-ed9a-4aec-b9c2-e35e399df80e",
   "metadata": {},
   "outputs": [
    {
     "data": {
      "text/plain": [
       "'Exercise 3.1'"
      ]
     },
     "execution_count": 77,
     "metadata": {},
     "output_type": "execute_result"
    }
   ],
   "source": [
    "\"Exercise 3.1\""
   ]
  },
  {
   "cell_type": "code",
   "execution_count": null,
   "id": "d53fc991-71fb-43a1-97c6-a9b0a98e0827",
   "metadata": {},
   "outputs": [],
   "source": [
    "def greet(name):  \n",
    "    print ('Hello ', name)\n",
    "\n",
    "greet('Baran')"
   ]
  },
  {
   "cell_type": "code",
   "execution_count": null,
   "id": "63386282-7cec-4331-956e-1bc5d63926fc",
   "metadata": {},
   "outputs": [],
   "source": [
    "#Printing means showing a value in the console.\n",
    "#Returning means giving back a value from a function."
   ]
  },
  {
   "cell_type": "code",
   "execution_count": null,
   "id": "cbe27ecc-f02f-4820-a07e-2d531d54d685",
   "metadata": {},
   "outputs": [],
   "source": [
    "def greet(name):\n",
    "    return \"Hello \" + name\n",
    "          \n",
    "greeting = greet(\"Baran\")"
   ]
  },
  {
   "cell_type": "code",
   "execution_count": null,
   "id": "40e99b24-b7ec-4427-947b-1b5d1b633857",
   "metadata": {},
   "outputs": [],
   "source": [
    "\"Exercise 3.2\""
   ]
  },
  {
   "cell_type": "code",
   "execution_count": null,
   "id": "7ad3214d-d064-4b5e-aa2d-a2a5605f6cac",
   "metadata": {},
   "outputs": [],
   "source": [
    "poly = [3, -1, +2]\n",
    "x = 1\n",
    "n = len(poly)\n",
    "  \n",
    "result = 0\n",
    "  \n",
    "for i in range(n):\n",
    "  \n",
    "    Sum = poly[i]\n",
    "    for j in range(n - i - 1):\n",
    "        Sum = Sum * x\n",
    "  \n",
    "    result = result + Sum\n",
    "  \n",
    "print(result)"
   ]
  },
  {
   "cell_type": "code",
   "execution_count": null,
   "id": "aef0a647-2ac0-4187-a430-99330c898017",
   "metadata": {},
   "outputs": [],
   "source": [
    "\"Exercise 3.3\""
   ]
  },
  {
   "cell_type": "code",
   "execution_count": 78,
   "id": "60552e0f-f194-4c65-b44e-2fb79b8b20f4",
   "metadata": {},
   "outputs": [],
   "source": [
    "def max_of_two( x, y ):\n",
    "    if x > y:\n",
    "        return x\n",
    "    return y"
   ]
  },
  {
   "cell_type": "code",
   "execution_count": null,
   "id": "80049748-7d1d-431b-9074-fefc91641f16",
   "metadata": {},
   "outputs": [],
   "source": [
    "\"Exercise 3.4\""
   ]
  },
  {
   "cell_type": "code",
   "execution_count": null,
   "id": "99de9614-856a-4785-a7d2-8b55e21cd5bb",
   "metadata": {},
   "outputs": [],
   "source": [
    "def is_prime(x):\n",
    "    \n",
    "    if (x > 1):\n",
    "        divisor = 2\n",
    "        for i in range(divisor,x):\n",
    "            if (x % i) == 0:\n",
    "                return False\n",
    "    else:\n",
    "        return False\n",
    "\n",
    "    return True\n",
    "\n",
    "print(is_prime(3))"
   ]
  },
  {
   "cell_type": "code",
   "execution_count": null,
   "id": "6d6e8164-9645-4e80-aa08-5fbc1b151678",
   "metadata": {},
   "outputs": [],
   "source": [
    "def isPrime(n):\n",
    "    \n",
    "    if n <= 1 :\n",
    "        return False\n",
    "    for i in range(2, n):\n",
    "        if n % i == 0:\n",
    "            return False\n",
    "    return True\n",
    "def printPrime(n):\n",
    "    n = int(input(\"Enter the number:\"))\n",
    "    for i in range(2, n + 1):\n",
    "        if isPrime(i):\n",
    "            print(i, end = \" \")"
   ]
  },
  {
   "cell_type": "code",
   "execution_count": null,
   "id": "d012aa29-4e7d-45ae-9f40-c048969d05e1",
   "metadata": {},
   "outputs": [],
   "source": [
    "i = 1\n",
    "x = int(input(\"Enter the number:\"))\n",
    "for k in range(1, x+1):\n",
    "    c = 0\n",
    "    for j in range(1, i+1):\n",
    "        a = i % j\n",
    "        if a == 0:\n",
    "            c = c + 1\n",
    "\n",
    "    if c == 2:\n",
    "        print(i)\n",
    "    else:\n",
    "        k = k - 1\n",
    "\n",
    "    i = i + 1"
   ]
  },
  {
   "cell_type": "code",
   "execution_count": null,
   "id": "3a04a725-6d13-424c-84c9-78d715e9fe2f",
   "metadata": {},
   "outputs": [],
   "source": [
    "\"Exercise 3.5\""
   ]
  },
  {
   "cell_type": "code",
   "execution_count": null,
   "id": "11f7ef3d-6669-49db-ad0e-2b0c7ce15b1e",
   "metadata": {},
   "outputs": [],
   "source": []
  },
  {
   "cell_type": "code",
   "execution_count": null,
   "id": "b4581007-bb8b-4a00-89c9-360b8c01b392",
   "metadata": {},
   "outputs": [],
   "source": []
  },
  {
   "cell_type": "code",
   "execution_count": null,
   "id": "e6c32806-db41-4e87-bc90-2ecd62b6650f",
   "metadata": {},
   "outputs": [],
   "source": []
  },
  {
   "cell_type": "code",
   "execution_count": null,
   "id": "59129d29-2941-4840-9916-a05815177eba",
   "metadata": {},
   "outputs": [],
   "source": []
  },
  {
   "cell_type": "code",
   "execution_count": null,
   "id": "7f921184-34b7-40d2-8dcb-38c324b4a278",
   "metadata": {},
   "outputs": [],
   "source": []
  }
 ],
 "metadata": {
  "kernelspec": {
   "display_name": "Python 3 (ipykernel)",
   "language": "python",
   "name": "python3"
  },
  "language_info": {
   "codemirror_mode": {
    "name": "ipython",
    "version": 3
   },
   "file_extension": ".py",
   "mimetype": "text/x-python",
   "name": "python",
   "nbconvert_exporter": "python",
   "pygments_lexer": "ipython3",
   "version": "3.10.2"
  }
 },
 "nbformat": 4,
 "nbformat_minor": 5
}
